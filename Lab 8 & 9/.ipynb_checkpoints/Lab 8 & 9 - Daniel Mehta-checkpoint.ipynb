{
 "cells": [
  {
   "cell_type": "markdown",
   "id": "e5cdbfb1-e9e0-4491-a2a1-6a98e2d92ce7",
   "metadata": {},
   "source": [
    "# Lab 8 & 9: Part 2\n",
    "### Daniel Mehta"
   ]
  },
  {
   "cell_type": "markdown",
   "id": "af201766-cb8d-4e72-aa64-9dea096bc21c",
   "metadata": {},
   "source": [
    "## Imports / Loading Data"
   ]
  },
  {
   "cell_type": "code",
   "execution_count": 3,
   "id": "f223d99e-bbb3-4768-bfe7-5f7c2ed56dcd",
   "metadata": {},
   "outputs": [],
   "source": [
    "import os\n",
    "\n",
    "os.environ[\"PYSPARK_PYTHON\"] = \"/opt/anaconda3/envs/moflow/bin/python\"\n",
    "os.environ[\"PYSPARK_DRIVER_PYTHON\"] = \"/opt/anaconda3/envs/moflow/bin/python\""
   ]
  },
  {
   "cell_type": "code",
   "execution_count": 4,
   "id": "edb1aa3d-776d-42b3-8657-383017d2dd08",
   "metadata": {},
   "outputs": [],
   "source": [
    "from pyspark.sql import SparkSession\n",
    "from pyspark.sql.functions import col, isnan, when, count, try_to_timestamp, col, lit, udf, max,min, lit, sum\n",
    "from pyspark.sql.types import TimestampType\n",
    "from pyspark.ml.feature import VectorAssembler, StandardScaler\n",
    "from pyspark.ml.clustering import KMeans\n",
    "import matplotlib.pyplot as plt\n",
    "from dateutil import parser"
   ]
  },
  {
   "cell_type": "code",
   "execution_count": 5,
   "id": "837ed8aa-6e8c-4f06-9d4c-184395c1ce3b",
   "metadata": {},
   "outputs": [
    {
     "name": "stderr",
     "output_type": "stream",
     "text": [
      "WARNING: Using incubator modules: jdk.incubator.vector\n",
      "Using Spark's default log4j profile: org/apache/spark/log4j2-defaults.properties\n",
      "25/07/31 12:22:27 WARN Utils: Your hostname, Daniels-MacBook-Pro.local, resolves to a loopback address: 127.0.0.1; using 10.0.0.134 instead (on interface en0)\n",
      "25/07/31 12:22:27 WARN Utils: Set SPARK_LOCAL_IP if you need to bind to another address\n",
      "Using Spark's default log4j profile: org/apache/spark/log4j2-defaults.properties\n",
      "Setting default log level to \"WARN\".\n",
      "To adjust logging level use sc.setLogLevel(newLevel). For SparkR, use setLogLevel(newLevel).\n",
      "25/07/31 12:22:28 WARN NativeCodeLoader: Unable to load native-hadoop library for your platform... using builtin-java classes where applicable\n"
     ]
    }
   ],
   "source": [
    "# start the spark session\n",
    "spark = SparkSession.builder.appName(\"RetailRFM\").getOrCreate()"
   ]
  },
  {
   "cell_type": "code",
   "execution_count": 6,
   "id": "c7ed2cd1-2c5c-4aff-9902-86666f38b862",
   "metadata": {},
   "outputs": [
    {
     "name": "stderr",
     "output_type": "stream",
     "text": [
      "                                                                                \r"
     ]
    }
   ],
   "source": [
    "# load dataset\n",
    "df = spark.read.csv(\"OnlineRetail.csv\", header=True, inferSchema=True)"
   ]
  },
  {
   "cell_type": "code",
   "execution_count": 7,
   "id": "f46033a3-e2a5-4ee5-b903-74c79f85834b",
   "metadata": {},
   "outputs": [
    {
     "name": "stdout",
     "output_type": "stream",
     "text": [
      "+---------+---------+--------------------+--------+--------------+---------+----------+--------------+\n",
      "|InvoiceNo|StockCode|         Description|Quantity|   InvoiceDate|UnitPrice|CustomerID|       Country|\n",
      "+---------+---------+--------------------+--------+--------------+---------+----------+--------------+\n",
      "|   536365|   85123A|WHITE HANGING HEA...|       6|12/1/2010 8:26|     2.55|     17850|United Kingdom|\n",
      "|   536365|    71053| WHITE METAL LANTERN|       6|12/1/2010 8:26|     3.39|     17850|United Kingdom|\n",
      "|   536365|   84406B|CREAM CUPID HEART...|       8|12/1/2010 8:26|     2.75|     17850|United Kingdom|\n",
      "|   536365|   84029G|KNITTED UNION FLA...|       6|12/1/2010 8:26|     3.39|     17850|United Kingdom|\n",
      "|   536365|   84029E|RED WOOLLY HOTTIE...|       6|12/1/2010 8:26|     3.39|     17850|United Kingdom|\n",
      "+---------+---------+--------------------+--------+--------------+---------+----------+--------------+\n",
      "only showing top 5 rows\n"
     ]
    }
   ],
   "source": [
    "df.show(5)"
   ]
  },
  {
   "cell_type": "markdown",
   "id": "29e48ebc-dd2a-4dbf-b3cd-2b90bdaa3afc",
   "metadata": {},
   "source": [
    "## Data Exploration Analysis"
   ]
  },
  {
   "cell_type": "code",
   "execution_count": 9,
   "id": "c2944c42-6517-4f6b-9723-3805b9424d58",
   "metadata": {},
   "outputs": [
    {
     "name": "stdout",
     "output_type": "stream",
     "text": [
      "root\n",
      " |-- InvoiceNo: string (nullable = true)\n",
      " |-- StockCode: string (nullable = true)\n",
      " |-- Description: string (nullable = true)\n",
      " |-- Quantity: integer (nullable = true)\n",
      " |-- InvoiceDate: string (nullable = true)\n",
      " |-- UnitPrice: double (nullable = true)\n",
      " |-- CustomerID: integer (nullable = true)\n",
      " |-- Country: string (nullable = true)\n",
      "\n"
     ]
    }
   ],
   "source": [
    "df.printSchema()"
   ]
  },
  {
   "cell_type": "code",
   "execution_count": 10,
   "id": "9049fc34-113a-4f2a-8e87-8c5e65961d00",
   "metadata": {},
   "outputs": [
    {
     "name": "stdout",
     "output_type": "stream",
     "text": [
      "Row count: 541909\n"
     ]
    }
   ],
   "source": [
    "print(\"Row count:\", df.count())"
   ]
  },
  {
   "cell_type": "code",
   "execution_count": 11,
   "id": "dbd99c4b-09ce-437a-8be8-13f1e3918c82",
   "metadata": {},
   "outputs": [
    {
     "name": "stdout",
     "output_type": "stream",
     "text": [
      "Column count: 8\n"
     ]
    }
   ],
   "source": [
    "print(\"Column count:\", len(df.columns))"
   ]
  },
  {
   "cell_type": "code",
   "execution_count": 12,
   "id": "b69cca37-c67d-4735-b8b5-661557489a1b",
   "metadata": {},
   "outputs": [
    {
     "name": "stdout",
     "output_type": "stream",
     "text": [
      "+---------------+---------------+-----------------+--------------+-----------------+---------------+----------------+-------------+\n",
      "|InvoiceNo_nulls|StockCode_nulls|Description_nulls|Quantity_nulls|InvoiceDate_nulls|UnitPrice_nulls|CustomerID_nulls|Country_nulls|\n",
      "+---------------+---------------+-----------------+--------------+-----------------+---------------+----------------+-------------+\n",
      "|              0|              0|             1454|             0|                0|              0|          135080|            0|\n",
      "+---------------+---------------+-----------------+--------------+-----------------+---------------+----------------+-------------+\n",
      "\n"
     ]
    }
   ],
   "source": [
    "# Counting nulls per column\n",
    "df.select([\n",
    "    count(when(col(c).isNull(), c)).alias(c + \"_nulls\") for c in df.columns\n",
    "]).show()"
   ]
  },
  {
   "cell_type": "code",
   "execution_count": 13,
   "id": "c5521bf8-4fff-432f-8b02-92e7d8fd294a",
   "metadata": {},
   "outputs": [
    {
     "name": "stderr",
     "output_type": "stream",
     "text": [
      "                                                                                \r"
     ]
    },
    {
     "name": "stdout",
     "output_type": "stream",
     "text": [
      "Row count after cleaning: 401604\n"
     ]
    },
    {
     "name": "stderr",
     "output_type": "stream",
     "text": [
      "[Stage 15:=====>                                                  (1 + 10) / 11]\r"
     ]
    },
    {
     "name": "stdout",
     "output_type": "stream",
     "text": [
      "Distinct customers: 4372\n"
     ]
    },
    {
     "name": "stderr",
     "output_type": "stream",
     "text": [
      "                                                                                \r"
     ]
    }
   ],
   "source": [
    "# Droping the rows with missing CustomerID\n",
    "df = df.dropna(subset=[\"CustomerID\"])\n",
    "\n",
    "# Drop duplicates\n",
    "df = df.dropDuplicates()\n",
    "\n",
    "# Updating counts\n",
    "print(\"Row count after cleaning:\", df.count())\n",
    "print(\"Distinct customers:\", df.select(\"CustomerID\").distinct().count())"
   ]
  },
  {
   "cell_type": "code",
   "execution_count": 14,
   "id": "57b2b58e-2393-4097-9024-74c59e1e95d2",
   "metadata": {},
   "outputs": [
    {
     "name": "stderr",
     "output_type": "stream",
     "text": [
      "[Stage 21:==============================================>          (9 + 2) / 11]\r"
     ]
    },
    {
     "name": "stdout",
     "output_type": "stream",
     "text": [
      "+-------+------------------+-----------------+\n",
      "|summary|          Quantity|        UnitPrice|\n",
      "+-------+------------------+-----------------+\n",
      "|  count|            401604|           401604|\n",
      "|   mean|12.183272576966365|3.474063639804083|\n",
      "| stddev|250.28303714445417|69.76403506410995|\n",
      "|    min|            -80995|              0.0|\n",
      "|    max|             80995|          38970.0|\n",
      "+-------+------------------+-----------------+\n",
      "\n"
     ]
    },
    {
     "name": "stderr",
     "output_type": "stream",
     "text": [
      "                                                                                \r"
     ]
    }
   ],
   "source": [
    "# Summary stats\n",
    "df.describe([\"Quantity\",\"UnitPrice\"]).show()"
   ]
  },
  {
   "cell_type": "markdown",
   "id": "49985777-53e5-4950-91ad-ba863729fee9",
   "metadata": {},
   "source": [
    "## RFM Analysis"
   ]
  },
  {
   "cell_type": "markdown",
   "id": "d89fee08-7b84-4209-884b-d85f8eeb6b47",
   "metadata": {},
   "source": [
    "### Parse Dates and Add \"Amount\" Column"
   ]
  },
  {
   "cell_type": "code",
   "execution_count": 17,
   "id": "82c35026-6b20-4fea-8f47-914ec56efc3e",
   "metadata": {},
   "outputs": [],
   "source": [
    "# parse date\n",
    "def parse_date_flexible(s):\n",
    "    try:\n",
    "        return parser.parse(s)\n",
    "    except:\n",
    "        return None\n",
    "\n",
    "# register the udf\n",
    "parse_date_udf = udf(parse_date_flexible, TimestampType())"
   ]
  },
  {
   "cell_type": "code",
   "execution_count": 18,
   "id": "da43fe24-e93c-4891-821e-73d4d5201ad1",
   "metadata": {},
   "outputs": [],
   "source": [
    "# apply the udf to the invoice date column\n",
    "df = df.withColumn(\"InvoiceDate\", parse_date_udf(col(\"InvoiceDate\")))\n",
    "\n",
    "# Drop the ones that couldn’t be parsed\n",
    "df = df.filter(col(\"InvoiceDate\").isNotNull())\n",
    "\n",
    "# recalc amount\n",
    "df = df.withColumn(\"Amount\", col(\"Quantity\") *col(\"UnitPrice\"))"
   ]
  },
  {
   "cell_type": "markdown",
   "id": "1bcc9dfa-b638-4ab8-978b-5aca731179e0",
   "metadata": {},
   "source": [
    "### Calculate Recency (in days)"
   ]
  },
  {
   "cell_type": "code",
   "execution_count": 20,
   "id": "e27c710e-8d3a-4706-84b2-274295f08397",
   "metadata": {},
   "outputs": [
    {
     "name": "stderr",
     "output_type": "stream",
     "text": [
      "[Stage 30:==============================================>          (9 + 2) / 11]\r"
     ]
    },
    {
     "name": "stdout",
     "output_type": "stream",
     "text": [
      "+----------+-------------------+------------------+\n",
      "|CustomerID|        InvoiceDate|           Recency|\n",
      "+----------+-------------------+------------------+\n",
      "|     15311|2010-12-01 09:41:00|         373.13125|\n",
      "|     17511|2010-12-01 10:19:00| 373.1048611111111|\n",
      "|     17850|2010-12-01 10:51:00| 373.0826388888889|\n",
      "|     14307|2010-12-01 11:41:00|373.04791666666665|\n",
      "|     17920|2010-12-01 11:49:00| 373.0423611111111|\n",
      "+----------+-------------------+------------------+\n",
      "only showing top 5 rows\n"
     ]
    },
    {
     "name": "stderr",
     "output_type": "stream",
     "text": [
      "                                                                                \r"
     ]
    }
   ],
   "source": [
    "# Find max date\n",
    "max_date = df.agg(max(\"InvoiceDate\")).collect()[0][0]\n",
    "\n",
    "# Creating recency column\n",
    "df = df.withColumn(\"Recency\",(lit(max_date).cast(\"long\")-col(\"InvoiceDate\").cast(\"long\"))/86400)\n",
    "\n",
    "# show sample recency\n",
    "df.select(\"CustomerID\", \"InvoiceDate\", \"Recency\").show(5)"
   ]
  },
  {
   "cell_type": "markdown",
   "id": "02cff991-3597-4e4c-b526-7ee252e58423",
   "metadata": {},
   "source": [
    "### Frequency and Monetary per Customer"
   ]
  },
  {
   "cell_type": "code",
   "execution_count": 22,
   "id": "e344fc62-3443-4839-94b4-99f6512665f9",
   "metadata": {},
   "outputs": [],
   "source": [
    "# Calc frequency (count of invoices per customer)\n",
    "freq_df = df.groupBy(\"CustomerID\").agg(count(\"InvoiceNo\").alias(\"Frequency\"))\n",
    "\n",
    "#Calc monetary (total amount spent per customer)\n",
    "mon_df = df.groupBy(\"CustomerID\").agg(sum(\"Amount\").alias(\"Monetary\"))"
   ]
  },
  {
   "cell_type": "markdown",
   "id": "0944bf33-8572-4e1f-87ab-9e034dfa3db3",
   "metadata": {},
   "source": [
    "### Combine Recency, Frequency, and Monetary into RFM Table"
   ]
  },
  {
   "cell_type": "code",
   "execution_count": 24,
   "id": "394674ff-5e0c-40c9-86a4-b8259076eb1d",
   "metadata": {},
   "outputs": [
    {
     "name": "stderr",
     "output_type": "stream",
     "text": [
      "[Stage 34:==================================================>     (10 + 1) / 11]\r"
     ]
    },
    {
     "name": "stdout",
     "output_type": "stream",
     "text": [
      "+----------+-------------------+---------+------------------+\n",
      "|CustomerID|            Recency|Frequency|          Monetary|\n",
      "+----------+-------------------+---------+------------------+\n",
      "|     17420| 49.956944444444446|       30| 598.8299999999999|\n",
      "|     16861| 59.197916666666664|        8|            151.65|\n",
      "|     16503| 106.08611111111111|       86|           1421.43|\n",
      "|     15727| 16.009722222222223|      301|           5159.06|\n",
      "|     17389|0.13333333333333333|      224|31300.079999999994|\n",
      "+----------+-------------------+---------+------------------+\n",
      "only showing top 5 rows\n"
     ]
    },
    {
     "name": "stderr",
     "output_type": "stream",
     "text": [
      "                                                                                \r"
     ]
    }
   ],
   "source": [
    "# takes most recent recency per customer\n",
    "recency_df = df.select(\"CustomerID\", \"Recency\").groupBy(\"CustomerID\").agg(min(col(\"Recency\")).alias(\"Recency\"))\n",
    "\n",
    "# Join all\n",
    "rfm_df = recency_df.join(freq_df, \"CustomerID\").join(mon_df, \"CustomerID\")\n",
    "\n",
    "# RFM sample\n",
    "rfm_df.show(5)"
   ]
  },
  {
   "cell_type": "markdown",
   "id": "e6ffd873-2a4a-4416-80fa-d41c5d5d45c9",
   "metadata": {},
   "source": [
    "## Clustering Analysis"
   ]
  },
  {
   "cell_type": "code",
   "execution_count": 26,
   "id": "5687c6a1-c6d9-432e-91f5-2829fef5369b",
   "metadata": {},
   "outputs": [
    {
     "name": "stderr",
     "output_type": "stream",
     "text": [
      "[Stage 46:==================================================>     (10 + 1) / 11]\r"
     ]
    },
    {
     "name": "stdout",
     "output_type": "stream",
     "text": [
      "+----------+----------------------------------------------+\n",
      "|CustomerID|features                                      |\n",
      "+----------+----------------------------------------------+\n",
      "|17420     |[49.956944444444446,30.0,598.8299999999999]   |\n",
      "|16861     |[59.197916666666664,8.0,151.65]               |\n",
      "|16503     |[106.08611111111111,86.0,1421.43]             |\n",
      "|15727     |[16.009722222222223,301.0,5159.06]            |\n",
      "|17389     |[0.13333333333333333,224.0,31300.079999999994]|\n",
      "+----------+----------------------------------------------+\n",
      "only showing top 5 rows\n"
     ]
    },
    {
     "name": "stderr",
     "output_type": "stream",
     "text": [
      "                                                                                \r"
     ]
    }
   ],
   "source": [
    "# Assembling features into a single vector column\n",
    "assembler = VectorAssembler(inputCols=[\"Recency\",\"Frequency\",\"Monetary\"],outputCol=\"features\")\n",
    "rfm_vector =assembler.transform(rfm_df).select(\"CustomerID\",\"features\")\n",
    "\n",
    "rfm_vector.show(5, truncate=False)"
   ]
  },
  {
   "cell_type": "code",
   "execution_count": 27,
   "id": "afaa1db9-2b32-4010-985f-d4da2f8b73fa",
   "metadata": {},
   "outputs": [
    {
     "name": "stderr",
     "output_type": "stream",
     "text": [
      "[Stage 73:==================================================>     (10 + 1) / 11]\r"
     ]
    },
    {
     "name": "stdout",
     "output_type": "stream",
     "text": [
      "+----------+---------------------------------------------------------------+\n",
      "|CustomerID|scaledFeatures                                                 |\n",
      "+----------+---------------------------------------------------------------+\n",
      "|17420     |[-0.41311020474246346,-0.2698596378091656,-0.15753124346706404]|\n",
      "|16861     |[-0.3214118636157202,-0.365835808118127,-0.2119413334472397]   |\n",
      "|16503     |[0.14386057153394405,-0.02555665884090024,-0.05744237541014624]|\n",
      "|15727     |[-0.7499691291912288,0.9123922782694043,0.3973292704877114]    |\n",
      "|17389     |[-0.9075108346725248,0.5764756821880395,3.578006515385898]     |\n",
      "+----------+---------------------------------------------------------------+\n",
      "only showing top 5 rows\n"
     ]
    },
    {
     "name": "stderr",
     "output_type": "stream",
     "text": [
      "                                                                                \r"
     ]
    }
   ],
   "source": [
    "# Scale features\n",
    "scaler = StandardScaler(inputCol=\"features\",outputCol=\"scaledFeatures\",withStd=True, withMean=True)\n",
    "scaler_model=scaler.fit(rfm_vector)\n",
    "scaled_data=scaler_model.transform(rfm_vector)\n",
    "\n",
    "scaled_data.select(\"CustomerID\", \"scaledFeatures\").show(5,truncate=False)"
   ]
  },
  {
   "cell_type": "code",
   "execution_count": 28,
   "id": "46fb2dfa-08b1-4324-887a-3350cc335f00",
   "metadata": {},
   "outputs": [
    {
     "name": "stderr",
     "output_type": "stream",
     "text": [
      "25/07/31 12:29:55 WARN SparkSession: Using an existing Spark session; only runtime SQL configurations will take effect.\n"
     ]
    }
   ],
   "source": [
    "# use one core\n",
    "spark = SparkSession.builder \\\n",
    "    .appName(\"RetailRFM\") \\\n",
    "    .master(\"local[1]\") \\\n",
    "    .getOrCreate()"
   ]
  },
  {
   "cell_type": "code",
   "execution_count": 29,
   "id": "b25c02e6-ccf1-483f-884a-6bc192013d3f",
   "metadata": {},
   "outputs": [
    {
     "name": "stderr",
     "output_type": "stream",
     "text": [
      "25/07/31 12:31:24 WARN InstanceBuilder: Failed to load implementation from:dev.ludovic.netlib.blas.JNIBLAS\n"
     ]
    },
    {
     "data": {
      "image/png": "[encoded data removed]",
      "text/plain": [
       "<Figure size 640x480 with 1 Axes>"
      ]
     },
     "metadata": {},
     "output_type": "display_data"
    }
   ],
   "source": [
    "# Plotting elbow\n",
    "sample_data = scaled_data.sample(withReplacement=False, fraction=0.05, seed=5503).cache()\n",
    "sample_data.count()\n",
    "\n",
    "cost = []\n",
    "for k in range(2, 6):\n",
    "    kmeans = KMeans(featuresCol=\"scaledFeatures\", k=k, seed=5503, maxIter=3)\n",
    "    model = kmeans.fit(sample_data)\n",
    "    cost.append(model.summary.trainingCost)\n",
    "\n",
    "plt.plot(range(2, 6), cost, marker='o')\n",
    "plt.xlabel(\"k\")\n",
    "plt.ylabel(\"WCSS\")\n",
    "plt.title(\"Elbow Test\")\n",
    "plt.grid(True)\n",
    "plt.show()"
   ]
  },
  {
   "cell_type": "code",
   "execution_count": 30,
   "id": "9d9ffdad-2d8b-44ce-9f83-0c03d4ebca60",
   "metadata": {},
   "outputs": [
    {
     "name": "stderr",
     "output_type": "stream",
     "text": [
      "[Stage 321:==================================================>    (10 + 1) / 11]\r"
     ]
    },
    {
     "name": "stdout",
     "output_type": "stream",
     "text": [
      "+----------+---------------------------------------------------------------+----------+\n",
      "|CustomerID|scaledFeatures                                                 |prediction|\n",
      "+----------+---------------------------------------------------------------+----------+\n",
      "|17420     |[-0.41311020474246346,-0.2698596378091656,-0.15753124346706404]|1         |\n",
      "|16861     |[-0.3214118636157202,-0.365835808118127,-0.2119413334472397]   |1         |\n",
      "|16503     |[0.14386057153394405,-0.02555665884090024,-0.05744237541014624]|1         |\n",
      "|15727     |[-0.7499691291912288,0.9123922782694043,0.3973292704877114]    |1         |\n",
      "|17389     |[-0.9075108346725248,0.5764756821880395,3.578006515385898]     |1         |\n",
      "|15100     |[2.3639775362285245,-0.37456091450985074,-0.1531181347332634]  |0         |\n",
      "|12471     |[-0.8901800066922317,1.9114169601217752,2.045578538149169]     |1         |\n",
      "|16916     |[-0.6803150499765958,0.19257100095219382,-0.16196260327089695] |1         |\n",
      "|17809     |[-0.7501345128379593,-0.12153282914986163,0.3326669461014138]  |1         |\n",
      "|15738     |[-0.7284003452634685,0.3670731287866691,0.3522746790060725]    |1         |\n",
      "+----------+---------------------------------------------------------------+----------+\n",
      "only showing top 10 rows\n"
     ]
    },
    {
     "name": "stderr",
     "output_type": "stream",
     "text": [
      "                                                                                \r"
     ]
    }
   ],
   "source": [
    "kmeans = KMeans(featuresCol=\"scaledFeatures\", k=3 , seed=5503)\n",
    "model = kmeans.fit(scaled_data)\n",
    "\n",
    "# Make predictions\n",
    "predictions = model.transform(scaled_data)\n",
    "\n",
    "# Show final cluster assignments\n",
    "predictions.select(\"CustomerID\", \"scaledFeatures\", \"prediction\").show(10, truncate=False)"
   ]
  },
  {
   "cell_type": "code",
   "execution_count": 31,
   "id": "67790151-6fc2-490f-9d96-fd0020a7cdca",
   "metadata": {},
   "outputs": [
    {
     "name": "stderr",
     "output_type": "stream",
     "text": [
      "[Stage 333:==================================================>    (10 + 1) / 11]\r"
     ]
    },
    {
     "name": "stdout",
     "output_type": "stream",
     "text": [
      "+----------+-----+\n",
      "|prediction|count|\n",
      "+----------+-----+\n",
      "|         0| 1099|\n",
      "|         1| 3259|\n",
      "|         2|   14|\n",
      "+----------+-----+\n",
      "\n"
     ]
    },
    {
     "name": "stderr",
     "output_type": "stream",
     "text": [
      "                                                                                \r"
     ]
    }
   ],
   "source": [
    "# Counting how many customers in each cluster\n",
    "predictions.groupBy(\"prediction\").count().orderBy(\"prediction\").show()"
   ]
  },
  {
   "cell_type": "code",
   "execution_count": null,
   "id": "1b2b02c7-beb4-43c8-9594-429a08afee48",
   "metadata": {},
   "outputs": [],
   "source": []
  }
 ],
 "metadata": {
  "kernelspec": {
   "display_name": "Python (moflow)",
   "language": "python",
   "name": "moflow"
  },
  "language_info": {
   "codemirror_mode": {
    "name": "ipython",
    "version": 3
   },
   "file_extension": ".py",
   "mimetype": "text/x-python",
   "name": "python",
   "nbconvert_exporter": "python",
   "pygments_lexer": "ipython3",
   "version": "3.10.16"
  }
 },
 "nbformat": 4,
 "nbformat_minor": 5
}
