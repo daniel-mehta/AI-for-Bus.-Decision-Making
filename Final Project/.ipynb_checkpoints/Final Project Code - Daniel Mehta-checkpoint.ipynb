{
 "cells": [
  {
   "cell_type": "markdown",
   "id": "f92a58d2-e80d-4d73-aceb-487214a1cbf5",
   "metadata": {},
   "source": [
    "# Final Project\n",
    "### Daniel Mehta\n",
    "\n",
    "---"
   ]
  },
  {
   "cell_type": "markdown",
   "id": "7dfeb197-8fb2-49b6-a2b7-83e563ef5a61",
   "metadata": {},
   "source": [
    "## Introduction and Problem Statement\n",
    "\n",
    "**Business Problem**  \n",
    "Exchange-Traded Funds (ETFs) are popular investment products, but creating them manually requires extensive research and portfolio balancing.  \n",
    "I propose an **AI-driven ETF grouping system** that automatically clusters stocks in the S&P 500 into ETF-style groups based on investment-relevant characteristics such as volatility, return, momentum, and liquidity.\n",
    "\n",
    "These clusters could be used by financial institutions or fintech platforms to quickly generate investment ideas for different risk profiles and objectives. For example, aggressive growth, stable income, or balanced diversification.\n",
    "\n",
    "**Note on Feature Selection**  \n",
    "My original concept included sector classification as a feature, but the available dataset does not contain sector information.  \n",
    "To maintain project simplicity and avoid external data merging, this implementation will focus solely on numerical, market-derived features.\n",
    "\n",
    "**Goal**  \n",
    "Build a stock clustering pipeline that:  \n",
    "1. Processes historical price data for S&P 500 companies.  \n",
    "2. Creates numerical feature vectors for each stock.  \n",
    "3. Applies and compares **K-Means Clustering** (covered in course) and **Hierarchical Clustering** (new) to group the stocks.  \n",
    "4. Evaluates clusters using quantitative metrics and visualizations.  \n",
    "5. Recommends the optimal approach for deployment in an ETF grouping tool."
   ]
  },
  {
   "cell_type": "markdown",
   "id": "27f7d7f9-bb3f-4c28-8b8f-c0fc404f5569",
   "metadata": {},
   "source": [
    "---\n",
    "\n",
    "## Imports"
   ]
  },
  {
   "cell_type": "code",
   "execution_count": 74,
   "id": "78ce0f96-9446-4693-b9d2-895093abc104",
   "metadata": {},
   "outputs": [],
   "source": [
    "import pandas as pd\n",
    "import numpy as np\n",
    "import matplotlib.pyplot as plt\n",
    "from sklearn.cluster import KMeans\n",
    "from sklearn.preprocessing import StandardScaler\n",
    "from sklearn.decomposition import PCA"
   ]
  },
  {
   "cell_type": "markdown",
   "id": "f17ad8f1-99aa-444d-bc4d-be5b837320b1",
   "metadata": {},
   "source": [
    "---\n",
    "\n",
    "### Load Dataset / Cleaning"
   ]
  },
  {
   "cell_type": "code",
   "execution_count": 12,
   "id": "ffbb8c8b-767e-4ed5-a97b-ed5c9813dd64",
   "metadata": {},
   "outputs": [],
   "source": [
    "file_path = \"all_stocks_5yr.csv\"\n",
    "df = pd.read_csv(file_path)"
   ]
  },
  {
   "cell_type": "code",
   "execution_count": 16,
   "id": "7c91beb6-123f-43c9-80ec-63c8a5ee3b1a",
   "metadata": {},
   "outputs": [
    {
     "name": "stdout",
     "output_type": "stream",
     "text": [
      "<class 'pandas.core.frame.DataFrame'>\n",
      "RangeIndex: 619040 entries, 0 to 619039\n",
      "Data columns (total 7 columns):\n",
      " #   Column  Non-Null Count   Dtype  \n",
      "---  ------  --------------   -----  \n",
      " 0   date    619040 non-null  object \n",
      " 1   open    619029 non-null  float64\n",
      " 2   high    619032 non-null  float64\n",
      " 3   low     619032 non-null  float64\n",
      " 4   close   619040 non-null  float64\n",
      " 5   volume  619040 non-null  int64  \n",
      " 6   Name    619040 non-null  object \n",
      "dtypes: float64(4), int64(1), object(2)\n",
      "memory usage: 33.1+ MB\n"
     ]
    },
    {
     "data": {
      "text/plain": [
       "(         date   open   high    low  close    volume Name\n",
       " 0  2013-02-08  15.07  15.12  14.63  14.75   8407500  AAL\n",
       " 1  2013-02-11  14.89  15.01  14.26  14.46   8882000  AAL\n",
       " 2  2013-02-12  14.45  14.51  14.10  14.27   8126000  AAL\n",
       " 3  2013-02-13  14.30  14.94  14.25  14.66  10259500  AAL\n",
       " 4  2013-02-14  14.94  14.96  13.16  13.99  31879900  AAL,\n",
       " None)"
      ]
     },
     "execution_count": 16,
     "metadata": {},
     "output_type": "execute_result"
    }
   ],
   "source": [
    "df.head(),df.info()"
   ]
  },
  {
   "cell_type": "code",
   "execution_count": 18,
   "id": "a1e5e86e-8ed1-43f4-ab9f-3932959e3ba1",
   "metadata": {},
   "outputs": [],
   "source": [
    "# Converting date to datetime\n",
    "df['date'] =pd.to_datetime(df['date'])"
   ]
  },
  {
   "cell_type": "code",
   "execution_count": 20,
   "id": "797bc5be-d093-4af3-b16e-732dad797f3e",
   "metadata": {},
   "outputs": [
    {
     "name": "stdout",
     "output_type": "stream",
     "text": [
      "Missing values per column:\n",
      " date       0\n",
      "open      11\n",
      "high       8\n",
      "low        8\n",
      "close      0\n",
      "volume     0\n",
      "Name       0\n",
      "dtype: int64\n"
     ]
    }
   ],
   "source": [
    "# check for missing values\n",
    "print(\"Missing values per column:\\n\", df.isnull().sum())"
   ]
  },
  {
   "cell_type": "code",
   "execution_count": 22,
   "id": "b2953e06-3a15-4c8c-b948-85cfab818399",
   "metadata": {},
   "outputs": [],
   "source": [
    "# Drop rows with any missing open, high, low, close values\n",
    "df = df.dropna(subset=['open', 'high', 'low', 'close'])"
   ]
  },
  {
   "cell_type": "code",
   "execution_count": 24,
   "id": "7dcfd19e-a805-4fdb-a6d3-544ead7abe9e",
   "metadata": {},
   "outputs": [],
   "source": [
    "#Checking correct data types\n",
    "numeric_cols = ['open', 'high', 'low', 'close', 'volume']\n",
    "df[numeric_cols] = df[numeric_cols].astype(float)"
   ]
  },
  {
   "cell_type": "code",
   "execution_count": 26,
   "id": "0dacf5f4-b376-4bb7-9811-08679e929480",
   "metadata": {},
   "outputs": [],
   "source": [
    "# Removeing any duplicates\n",
    "df = df.drop_duplicates(subset=['date', 'Name'])"
   ]
  },
  {
   "cell_type": "code",
   "execution_count": 30,
   "id": "dbff8596-609e-40b8-8ab3-d41fdd53edb5",
   "metadata": {},
   "outputs": [],
   "source": [
    "# Sort by Name then date\n",
    "df =df.sort_values(by=['Name','date']).reset_index(drop=True)"
   ]
  },
  {
   "cell_type": "code",
   "execution_count": 32,
   "id": "521ab99f-3954-44fe-9af3-118b2dee0b73",
   "metadata": {},
   "outputs": [
    {
     "name": "stdout",
     "output_type": "stream",
     "text": [
      "Cleaned dataset shape: (619029, 7)\n"
     ]
    },
    {
     "data": {
      "text/html": [
       "<div>\n",
       "<style scoped>\n",
       "    .dataframe tbody tr th:only-of-type {\n",
       "        vertical-align: middle;\n",
       "    }\n",
       "\n",
       "    .dataframe tbody tr th {\n",
       "        vertical-align: top;\n",
       "    }\n",
       "\n",
       "    .dataframe thead th {\n",
       "        text-align: right;\n",
       "    }\n",
       "</style>\n",
       "<table border=\"1\" class=\"dataframe\">\n",
       "  <thead>\n",
       "    <tr style=\"text-align: right;\">\n",
       "      <th></th>\n",
       "      <th>date</th>\n",
       "      <th>open</th>\n",
       "      <th>high</th>\n",
       "      <th>low</th>\n",
       "      <th>close</th>\n",
       "      <th>volume</th>\n",
       "      <th>Name</th>\n",
       "    </tr>\n",
       "  </thead>\n",
       "  <tbody>\n",
       "    <tr>\n",
       "      <th>0</th>\n",
       "      <td>2013-02-08</td>\n",
       "      <td>45.07</td>\n",
       "      <td>45.35</td>\n",
       "      <td>45.00</td>\n",
       "      <td>45.08</td>\n",
       "      <td>1824755.0</td>\n",
       "      <td>A</td>\n",
       "    </tr>\n",
       "    <tr>\n",
       "      <th>1</th>\n",
       "      <td>2013-02-11</td>\n",
       "      <td>45.17</td>\n",
       "      <td>45.18</td>\n",
       "      <td>44.45</td>\n",
       "      <td>44.60</td>\n",
       "      <td>2915405.0</td>\n",
       "      <td>A</td>\n",
       "    </tr>\n",
       "    <tr>\n",
       "      <th>2</th>\n",
       "      <td>2013-02-12</td>\n",
       "      <td>44.81</td>\n",
       "      <td>44.95</td>\n",
       "      <td>44.50</td>\n",
       "      <td>44.62</td>\n",
       "      <td>2373731.0</td>\n",
       "      <td>A</td>\n",
       "    </tr>\n",
       "    <tr>\n",
       "      <th>3</th>\n",
       "      <td>2013-02-13</td>\n",
       "      <td>44.81</td>\n",
       "      <td>45.24</td>\n",
       "      <td>44.68</td>\n",
       "      <td>44.75</td>\n",
       "      <td>2052338.0</td>\n",
       "      <td>A</td>\n",
       "    </tr>\n",
       "    <tr>\n",
       "      <th>4</th>\n",
       "      <td>2013-02-14</td>\n",
       "      <td>44.72</td>\n",
       "      <td>44.78</td>\n",
       "      <td>44.36</td>\n",
       "      <td>44.58</td>\n",
       "      <td>3826245.0</td>\n",
       "      <td>A</td>\n",
       "    </tr>\n",
       "  </tbody>\n",
       "</table>\n",
       "</div>"
      ],
      "text/plain": [
       "        date   open   high    low  close     volume Name\n",
       "0 2013-02-08  45.07  45.35  45.00  45.08  1824755.0    A\n",
       "1 2013-02-11  45.17  45.18  44.45  44.60  2915405.0    A\n",
       "2 2013-02-12  44.81  44.95  44.50  44.62  2373731.0    A\n",
       "3 2013-02-13  44.81  45.24  44.68  44.75  2052338.0    A\n",
       "4 2013-02-14  44.72  44.78  44.36  44.58  3826245.0    A"
      ]
     },
     "execution_count": 32,
     "metadata": {},
     "output_type": "execute_result"
    }
   ],
   "source": [
    "print(f\"Cleaned dataset shape: {df.shape}\")\n",
    "df.head()"
   ]
  },
  {
   "cell_type": "markdown",
   "id": "ed8f79d6-fedd-4cd1-a639-2b28cb4cb74a",
   "metadata": {},
   "source": [
    "---\n",
    "\n",
    "## Feature Engineering"
   ]
  },
  {
   "cell_type": "code",
   "execution_count": 39,
   "id": "888d274c-4d27-4d3b-9055-aaface834b18",
   "metadata": {},
   "outputs": [],
   "source": [
    "# daily returns\n",
    "df['daily_return'] = (df['close']-df['open'])/df['open']"
   ]
  },
  {
   "cell_type": "code",
   "execution_count": 41,
   "id": "2ad36dbb-9e10-4b28-ac51-fd3d4f9aef35",
   "metadata": {},
   "outputs": [
    {
     "name": "stderr",
     "output_type": "stream",
     "text": [
      "/var/folders/xb/2tg9ddl94wl284px7ngj8hn40000gn/T/ipykernel_61733/3980291536.py:2: DeprecationWarning: DataFrameGroupBy.apply operated on the grouping columns. This behavior is deprecated, and in a future version of pandas the grouping columns will be excluded from the operation. Either pass `include_groups=False` to exclude the groupings or explicitly select the grouping columns after groupby to silence this warning.\n",
      "  features_df = df.groupby('Name').apply(lambda x: pd.Series({\n"
     ]
    }
   ],
   "source": [
    "# Group by stock ticker\n",
    "features_df = df.groupby('Name').apply(lambda x: pd.Series({\n",
    "    'avg_daily_return': x['daily_return'].mean(),\n",
    "    'volatility': x['daily_return'].std(),\n",
    "    'momentum_30d': (x['close'].iloc[-1] - x['close'].iloc[-30])/x['close'].iloc[-30]\n",
    "                    if len(x) >=30 else np.nan,\n",
    "    'avg_volume': x['volume'].mean(),\n",
    "    'max_drawdown': (x['close'].cummax() - x['close']).max()/x['close'].cummax().max()\n",
    "})).reset_index()"
   ]
  },
  {
   "cell_type": "code",
   "execution_count": 45,
   "id": "38f965fe-5a5d-4c5c-9353-3fa01b5a6990",
   "metadata": {},
   "outputs": [],
   "source": [
    "# Dropping rows with NaN \n",
    "features_df =features_df.dropna()"
   ]
  },
  {
   "cell_type": "code",
   "execution_count": 47,
   "id": "3d5de04a-75a5-4159-948a-7d5b7d7bfb14",
   "metadata": {},
   "outputs": [
    {
     "name": "stdout",
     "output_type": "stream",
     "text": [
      "Feature dataset shape: (505, 6)\n"
     ]
    },
    {
     "data": {
      "text/html": [
       "<div>\n",
       "<style scoped>\n",
       "    .dataframe tbody tr th:only-of-type {\n",
       "        vertical-align: middle;\n",
       "    }\n",
       "\n",
       "    .dataframe tbody tr th {\n",
       "        vertical-align: top;\n",
       "    }\n",
       "\n",
       "    .dataframe thead th {\n",
       "        text-align: right;\n",
       "    }\n",
       "</style>\n",
       "<table border=\"1\" class=\"dataframe\">\n",
       "  <thead>\n",
       "    <tr style=\"text-align: right;\">\n",
       "      <th></th>\n",
       "      <th>Name</th>\n",
       "      <th>avg_daily_return</th>\n",
       "      <th>volatility</th>\n",
       "      <th>momentum_30d</th>\n",
       "      <th>avg_volume</th>\n",
       "      <th>max_drawdown</th>\n",
       "    </tr>\n",
       "  </thead>\n",
       "  <tbody>\n",
       "    <tr>\n",
       "      <th>0</th>\n",
       "      <td>A</td>\n",
       "      <td>0.000421</td>\n",
       "      <td>0.011578</td>\n",
       "      <td>0.012045</td>\n",
       "      <td>2.338039e+06</td>\n",
       "      <td>0.368351</td>\n",
       "    </tr>\n",
       "    <tr>\n",
       "      <th>1</th>\n",
       "      <td>AAL</td>\n",
       "      <td>0.000312</td>\n",
       "      <td>0.019596</td>\n",
       "      <td>-0.027436</td>\n",
       "      <td>9.390321e+06</td>\n",
       "      <td>0.521464</td>\n",
       "    </tr>\n",
       "    <tr>\n",
       "      <th>2</th>\n",
       "      <td>AAP</td>\n",
       "      <td>0.000036</td>\n",
       "      <td>0.013973</td>\n",
       "      <td>0.078168</td>\n",
       "      <td>1.078043e+06</td>\n",
       "      <td>0.603853</td>\n",
       "    </tr>\n",
       "    <tr>\n",
       "      <th>3</th>\n",
       "      <td>AAPL</td>\n",
       "      <td>0.000139</td>\n",
       "      <td>0.011863</td>\n",
       "      <td>-0.064666</td>\n",
       "      <td>5.404790e+07</td>\n",
       "      <td>0.237978</td>\n",
       "    </tr>\n",
       "    <tr>\n",
       "      <th>4</th>\n",
       "      <td>ABBV</td>\n",
       "      <td>0.001016</td>\n",
       "      <td>0.014834</td>\n",
       "      <td>0.162353</td>\n",
       "      <td>7.870683e+06</td>\n",
       "      <td>0.186349</td>\n",
       "    </tr>\n",
       "  </tbody>\n",
       "</table>\n",
       "</div>"
      ],
      "text/plain": [
       "   Name  avg_daily_return  volatility  momentum_30d    avg_volume  \\\n",
       "0     A          0.000421    0.011578      0.012045  2.338039e+06   \n",
       "1   AAL          0.000312    0.019596     -0.027436  9.390321e+06   \n",
       "2   AAP          0.000036    0.013973      0.078168  1.078043e+06   \n",
       "3  AAPL          0.000139    0.011863     -0.064666  5.404790e+07   \n",
       "4  ABBV          0.001016    0.014834      0.162353  7.870683e+06   \n",
       "\n",
       "   max_drawdown  \n",
       "0      0.368351  \n",
       "1      0.521464  \n",
       "2      0.603853  \n",
       "3      0.237978  \n",
       "4      0.186349  "
      ]
     },
     "execution_count": 47,
     "metadata": {},
     "output_type": "execute_result"
    }
   ],
   "source": [
    "print(f\"Feature dataset shape: {features_df.shape}\")\n",
    "features_df.head()"
   ]
  },
  {
   "cell_type": "markdown",
   "id": "7da7124b-ed68-4865-b075-b261fe190469",
   "metadata": {},
   "source": [
    "---\n",
    "\n",
    "## StandardScaler"
   ]
  },
  {
   "cell_type": "code",
   "execution_count": 52,
   "id": "a855994f-9aef-4782-a65d-40296d5b5b45",
   "metadata": {},
   "outputs": [
    {
     "data": {
      "text/html": [
       "<div>\n",
       "<style scoped>\n",
       "    .dataframe tbody tr th:only-of-type {\n",
       "        vertical-align: middle;\n",
       "    }\n",
       "\n",
       "    .dataframe tbody tr th {\n",
       "        vertical-align: top;\n",
       "    }\n",
       "\n",
       "    .dataframe thead th {\n",
       "        text-align: right;\n",
       "    }\n",
       "</style>\n",
       "<table border=\"1\" class=\"dataframe\">\n",
       "  <thead>\n",
       "    <tr style=\"text-align: right;\">\n",
       "      <th></th>\n",
       "      <th>avg_daily_return</th>\n",
       "      <th>volatility</th>\n",
       "      <th>momentum_30d</th>\n",
       "      <th>avg_volume</th>\n",
       "      <th>max_drawdown</th>\n",
       "    </tr>\n",
       "  </thead>\n",
       "  <tbody>\n",
       "    <tr>\n",
       "      <th>0</th>\n",
       "      <td>0.192156</td>\n",
       "      <td>-0.332729</td>\n",
       "      <td>0.295485</td>\n",
       "      <td>-0.280768</td>\n",
       "      <td>0.291482</td>\n",
       "    </tr>\n",
       "    <tr>\n",
       "      <th>1</th>\n",
       "      <td>-0.087933</td>\n",
       "      <td>1.844891</td>\n",
       "      <td>-0.233007</td>\n",
       "      <td>0.724016</td>\n",
       "      <td>1.140115</td>\n",
       "    </tr>\n",
       "    <tr>\n",
       "      <th>2</th>\n",
       "      <td>-0.795181</td>\n",
       "      <td>0.317619</td>\n",
       "      <td>1.180616</td>\n",
       "      <td>-0.460288</td>\n",
       "      <td>1.596756</td>\n",
       "    </tr>\n",
       "    <tr>\n",
       "      <th>3</th>\n",
       "      <td>-0.531922</td>\n",
       "      <td>-0.255375</td>\n",
       "      <td>-0.731363</td>\n",
       "      <td>7.086672</td>\n",
       "      <td>-0.431109</td>\n",
       "    </tr>\n",
       "    <tr>\n",
       "      <th>4</th>\n",
       "      <td>1.720948</td>\n",
       "      <td>0.551432</td>\n",
       "      <td>2.307523</td>\n",
       "      <td>0.507503</td>\n",
       "      <td>-0.717269</td>\n",
       "    </tr>\n",
       "  </tbody>\n",
       "</table>\n",
       "</div>"
      ],
      "text/plain": [
       "   avg_daily_return  volatility  momentum_30d  avg_volume  max_drawdown\n",
       "0          0.192156   -0.332729      0.295485   -0.280768      0.291482\n",
       "1         -0.087933    1.844891     -0.233007    0.724016      1.140115\n",
       "2         -0.795181    0.317619      1.180616   -0.460288      1.596756\n",
       "3         -0.531922   -0.255375     -0.731363    7.086672     -0.431109\n",
       "4          1.720948    0.551432      2.307523    0.507503     -0.717269"
      ]
     },
     "execution_count": 52,
     "metadata": {},
     "output_type": "execute_result"
    }
   ],
   "source": [
    "# Scaling to prevent bias clusters toward features with larger ranges\n",
    "\n",
    "# only numeric columns for scaling\n",
    "X = features_df.drop(columns=['Name'])\n",
    "\n",
    "scaler = StandardScaler()\n",
    "X_scaled = scaler.fit_transform(X)\n",
    "\n",
    "# Store in df\n",
    "X_scaled_df = pd.DataFrame(X_scaled, columns=X.columns)\n",
    "X_scaled_df.head()"
   ]
  },
  {
   "cell_type": "markdown",
   "id": "180303d4-52d5-42cd-b150-1e6de1387317",
   "metadata": {},
   "source": [
    "---\n",
    "\n",
    "## Elbow Method & K Selection"
   ]
  },
  {
   "cell_type": "code",
   "execution_count": 57,
   "id": "4021d96d-3ced-4ee2-ad63-74fc0e601cae",
   "metadata": {},
   "outputs": [],
   "source": [
    "X_for_kmeans = X_scaled_df"
   ]
  },
  {
   "cell_type": "code",
   "execution_count": 59,
   "id": "3da9e6ff-a71d-4724-b463-53477447a242",
   "metadata": {},
   "outputs": [],
   "source": [
    "# testing k val from 2 to 10\n",
    "wcss = []\n",
    "K_range = range(2,11)\n",
    "\n",
    "for k in K_range:\n",
    "    kmeans = KMeans(n_clusters=k, random_state=5503, n_init=10)\n",
    "    kmeans.fit(X_for_kmeans)\n",
    "    wcss.append(kmeans.inertia_)"
   ]
  },
  {
   "cell_type": "code",
   "execution_count": 61,
   "id": "6dab07a0-4f54-41f7-8192-7b920eb70f9c",
   "metadata": {},
   "outputs": [
    {
     "data": {
      "image/png": "[encoded data removed]",
      "text/plain": [
       "<Figure size 800x500 with 1 Axes>"
      ]
     },
     "metadata": {},
     "output_type": "display_data"
    }
   ],
   "source": [
    "plt.figure(figsize=(8, 5))\n",
    "plt.plot(K_range, wcss, marker='o')\n",
    "plt.xlabel('Number of Clusters (K)')\n",
    "plt.ylabel('Within-Cluster Sum of Squares (WCSS)')\n",
    "plt.title('Elbow Method for Optimal K')\n",
    "plt.grid(True)\n",
    "plt.show()"
   ]
  },
  {
   "cell_type": "code",
   "execution_count": 63,
   "id": "c4f8feb2-4e0b-431e-a352-e2eb4bcd6117",
   "metadata": {},
   "outputs": [
    {
     "name": "stdout",
     "output_type": "stream",
     "text": [
      "K=2: WCSS=1845.09\n",
      "K=3: WCSS=1561.31\n",
      "K=4: WCSS=1333.58\n",
      "K=5: WCSS=1193.14\n",
      "K=6: WCSS=1098.54\n",
      "K=7: WCSS=1015.73\n",
      "K=8: WCSS=944.82\n",
      "K=9: WCSS=888.68\n",
      "K=10: WCSS=841.93\n"
     ]
    }
   ],
   "source": [
    "for k, score in zip(K_range, wcss):\n",
    "    print(f\"K={k}: WCSS={score:.2f}\")"
   ]
  },
  {
   "cell_type": "code",
   "execution_count": 65,
   "id": "e5802867-1854-4fa7-a1d9-c6902305db48",
   "metadata": {},
   "outputs": [],
   "source": [
    "# I chose K=4 as it marks the point where WCSS improvement significantly tapers off"
   ]
  },
  {
   "cell_type": "markdown",
   "id": "4e6a84c5-6bff-4eff-a326-62087109b082",
   "metadata": {},
   "source": [
    "---\n",
    "\n",
    "## K-Means Clustering"
   ]
  },
  {
   "cell_type": "code",
   "execution_count": 68,
   "id": "d7beeced-cb89-431f-b963-275da9fd6f6e",
   "metadata": {},
   "outputs": [],
   "source": [
    "#KMeans Clustering\n",
    "kmeans = KMeans(n_clusters=4, random_state=5503, n_init=10)\n",
    "features_df['kmeans_cluster'] = kmeans.fit_predict(X_scaled_df)"
   ]
  },
  {
   "cell_type": "code",
   "execution_count": 86,
   "id": "e3fd0716-7ae8-4985-8541-8ed212e37716",
   "metadata": {},
   "outputs": [
    {
     "name": "stdout",
     "output_type": "stream",
     "text": [
      "kmeans_cluster\n",
      "3    228\n",
      "2    178\n",
      "0     85\n",
      "1     14\n",
      "Name: count, dtype: int64\n"
     ]
    }
   ],
   "source": [
    "print(features_df['kmeans_cluster'].value_counts())"
   ]
  },
  {
   "cell_type": "code",
   "execution_count": 92,
   "id": "fb810aad-2729-4627-b8ff-2322bc0c1f8c",
   "metadata": {},
   "outputs": [
    {
     "name": "stdout",
     "output_type": "stream",
     "text": [
      "\n",
      "K-Means Cluster Centers (scaled features):\n",
      "    avg_daily_return  volatility  momentum_30d  avg_volume  max_drawdown\n",
      "0         -1.044587    1.496965     -0.337898   -0.009384      1.636725\n",
      "1         -0.425539    0.103140     -0.040587    4.594347     -0.226703\n",
      "2          0.641201   -0.219502      0.833602   -0.147130     -0.528005\n",
      "3         -0.085028   -0.393047     -0.522331   -0.163746     -0.184048\n"
     ]
    }
   ],
   "source": [
    "# cluster centers represent the average scaled feature values for each cluster\n",
    "# shows how groups differ across return, volatility, momentum, volume, and drawdown.\n",
    "centers = pd.DataFrame(kmeans.cluster_centers_, columns=X_scaled_df.columns)\n",
    "print(\"\\nK-Means Cluster Centers (scaled features):\\n\", centers)"
   ]
  },
  {
   "cell_type": "code",
   "execution_count": 94,
   "id": "b98234c4-5d61-4b32-ba89-2a8fecef269a",
   "metadata": {},
   "outputs": [],
   "source": [
    "# Reduceing features to 2D for visualization\n",
    "pca = PCA(n_components=2)\n",
    "pca_result = pca.fit_transform(X_scaled_df)"
   ]
  },
  {
   "cell_type": "code",
   "execution_count": 96,
   "id": "dc85dd0c-56a6-4beb-b8d3-9bf1b9b9ffa3",
   "metadata": {},
   "outputs": [],
   "source": [
    "plot_df = pd.DataFrame({\n",
    "    'PCA1': pca_result[:, 0],\n",
    "    'PCA2': pca_result[:, 1],\n",
    "    'Cluster': features_df['kmeans_cluster']\n",
    "})"
   ]
  },
  {
   "cell_type": "code",
   "execution_count": 98,
   "id": "e31ead6d-0763-4ea8-b720-7bf4c8e1d7d0",
   "metadata": {},
   "outputs": [
    {
     "data": {
      "image/png": "[encoded data removed]",
      "text/plain": [
       "<Figure size 800x600 with 1 Axes>"
      ]
     },
     "metadata": {},
     "output_type": "display_data"
    }
   ],
   "source": [
    "plt.figure(figsize=(8, 6))\n",
    "for cluster in plot_df['Cluster'].unique():\n",
    "    cluster_data = plot_df[plot_df['Cluster'] == cluster]\n",
    "    plt.scatter(cluster_data['PCA1'], cluster_data['PCA2'], label=f'Cluster {cluster}', alpha=0.7)\n",
    "\n",
    "plt.title('K-Means Clustering (PCA-reduced to 2D)')\n",
    "plt.xlabel('PCA Component 1')\n",
    "plt.ylabel('PCA Component 2')\n",
    "plt.legend()\n",
    "plt.grid(True)\n",
    "plt.show()"
   ]
  },
  {
   "cell_type": "markdown",
   "id": "06e9af5e-4cc8-42a7-8ed8-db19d3cd2c0e",
   "metadata": {},
   "source": [
    "#### Interpretation: \n",
    "- The PCA plot reduces the 5 dimensional feature space to 2 dimensions for visualization.\n",
    "- Each point represents a stock, colored by its assigned K-Means cluster (K=4)\n",
    "- Clusters 2 (red) and 3 (blue) show dense, well-defined groupings, while Cluster 0 (orange) is more spread out, suggesting greater diversity in stock characteristics\n",
    "- Cluster 1 (green) is very small (14 stocks), indicating a niche group with unique feature patterns\n",
    "- Point separation in this 2D space suggests that the chosen features and K value produce meaningful differentiation between stock groups"
   ]
  },
  {
   "cell_type": "code",
   "execution_count": null,
   "id": "5b360fc9-d691-4957-a7e5-6f3f2e8b41bb",
   "metadata": {},
   "outputs": [],
   "source": []
  }
 ],
 "metadata": {
  "kernelspec": {
   "display_name": "Python (moflow)",
   "language": "python",
   "name": "moflow"
  },
  "language_info": {
   "codemirror_mode": {
    "name": "ipython",
    "version": 3
   },
   "file_extension": ".py",
   "mimetype": "text/x-python",
   "name": "python",
   "nbconvert_exporter": "python",
   "pygments_lexer": "ipython3",
   "version": "3.10.16"
  }
 },
 "nbformat": 4,
 "nbformat_minor": 5
}
