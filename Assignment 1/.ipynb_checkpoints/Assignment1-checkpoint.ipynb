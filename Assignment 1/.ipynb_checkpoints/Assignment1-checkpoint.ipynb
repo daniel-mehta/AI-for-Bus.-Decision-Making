{
 "cells": [
  {
   "cell_type": "markdown",
   "metadata": {
    "id": "yNXjACr3ITzs"
   },
   "source": [
    "# RFM Analysis Case Study"
   ]
  },
  {
   "cell_type": "markdown",
   "metadata": {
    "id": "N14mtRZ0ITzt"
   },
   "source": [
    "## Tasks:\n",
    "### 1. Data preprocessing - 10%\n",
    "### 2. Build a Recency Frequency Monetary Model - 30%\n",
    "### 3. Perform customer segmentation with KMeans Clustering - 30%\n",
    "### 4. Create segments to determine total customer value for the retail - 30%"
   ]
  },
  {
   "cell_type": "code",
   "execution_count": 1,
   "metadata": {
    "id": "ha-hod2tITzu"
   },
   "outputs": [],
   "source": [
    "# Importing the basic libraries\n",
    "import pandas as pd\n",
    "import numpy as np\n",
    "import matplotlib.pyplot as plt\n",
    "import seaborn as sns\n"
   ]
  },
  {
   "cell_type": "code",
   "execution_count": 3,
   "metadata": {
    "id": "fU8PwfGTITzu"
   },
   "outputs": [],
   "source": [
    "# Load the datasets\n",
    "train_df = pd.read_excel(\"train.xlsx\")\n",
    "test_df = pd.read_excel(\"test.xlsx\")"
   ]
  },
  {
   "cell_type": "code",
   "execution_count": 11,
   "metadata": {
    "id": "MPMy-FibITzu",
    "outputId": "eebdfc8d-c421-4ece-a70e-14db78d1d291"
   },
   "outputs": [
    {
     "name": "stdout",
     "output_type": "stream",
     "text": [
      "Shape of train data\n",
      "--------------------\n",
      "(379336, 8)\n",
      "--------------------\n",
      "Columns of train data\n",
      "--------------------\n",
      "['InvoiceNo', 'StockCode', 'Description', 'Quantity', 'InvoiceDate', 'UnitPrice', 'CustomerID', 'Country']\n",
      "--------------------\n",
      "Types of train columns\n",
      "--------------------\n",
      "<class 'pandas.core.frame.DataFrame'>\n",
      "RangeIndex: 379336 entries, 0 to 379335\n",
      "Data columns (total 8 columns):\n",
      " #   Column       Non-Null Count   Dtype         \n",
      "---  ------       --------------   -----         \n",
      " 0   InvoiceNo    379336 non-null  object        \n",
      " 1   StockCode    379336 non-null  object        \n",
      " 2   Description  378373 non-null  object        \n",
      " 3   Quantity     379336 non-null  int64         \n",
      " 4   InvoiceDate  379336 non-null  datetime64[ns]\n",
      " 5   UnitPrice    379336 non-null  float64       \n",
      " 6   CustomerID   285076 non-null  float64       \n",
      " 7   Country      379336 non-null  object        \n",
      "dtypes: datetime64[ns](1), float64(2), int64(1), object(4)\n",
      "memory usage: 23.2+ MB\n",
      "None\n",
      "--------------------\n",
      "Shape of test data\n",
      "--------------------\n",
      "(162573, 8)\n",
      "--------------------\n",
      "Columns of test data\n",
      "--------------------\n",
      "['InvoiceNo', 'StockCode', 'Description', 'Quantity', 'InvoiceDate', 'UnitPrice', 'CustomerID', 'Country']\n",
      "--------------------\n",
      "Types of test columns\n",
      "--------------------\n",
      "<class 'pandas.core.frame.DataFrame'>\n",
      "RangeIndex: 162573 entries, 0 to 162572\n",
      "Data columns (total 8 columns):\n",
      " #   Column       Non-Null Count   Dtype         \n",
      "---  ------       --------------   -----         \n",
      " 0   InvoiceNo    162573 non-null  object        \n",
      " 1   StockCode    162573 non-null  object        \n",
      " 2   Description  162082 non-null  object        \n",
      " 3   Quantity     162573 non-null  int64         \n",
      " 4   InvoiceDate  162573 non-null  datetime64[ns]\n",
      " 5   UnitPrice    162573 non-null  float64       \n",
      " 6   CustomerID   121753 non-null  float64       \n",
      " 7   Country      162573 non-null  object        \n",
      "dtypes: datetime64[ns](1), float64(2), int64(1), object(4)\n",
      "memory usage: 9.9+ MB\n",
      "None\n"
     ]
    }
   ],
   "source": [
    "# Explore the datasets as per the below outputs\n",
    "print(\"Shape of train data\")\n",
    "print(\"-\" * 20)\n",
    "print(train_df.shape)\n",
    "print(\"-\" * 20)\n",
    "\n",
    "print(\"Columns of train data\")\n",
    "print(\"-\" * 20)\n",
    "print(train_df.columns.tolist())\n",
    "print(\"-\" * 20)\n",
    "\n",
    "print(\"Types of train columns\")\n",
    "print(\"-\" * 20)\n",
    "print(train_df.info())\n",
    "print(\"-\" * 20)\n",
    "\n",
    "print(\"Shape of test data\")\n",
    "print(\"-\" * 20)\n",
    "print(test_df.shape)\n",
    "print(\"-\" * 20)\n",
    "\n",
    "print(\"Columns of test data\")\n",
    "print(\"-\" * 20)\n",
    "print(test_df.columns.tolist())\n",
    "print(\"-\" * 20)\n",
    "\n",
    "print(\"Types of test columns\")\n",
    "print(\"-\" * 20)\n",
    "print(test_df.info())"
   ]
  },
  {
   "cell_type": "code",
   "execution_count": 15,
   "metadata": {
    "id": "1Xb9sz9lITzv",
    "outputId": "7abeca92-2071-4e53-bf72-312f970e51bc"
   },
   "outputs": [
    {
     "data": {
      "text/html": [
       "<div>\n",
       "<style scoped>\n",
       "    .dataframe tbody tr th:only-of-type {\n",
       "        vertical-align: middle;\n",
       "    }\n",
       "\n",
       "    .dataframe tbody tr th {\n",
       "        vertical-align: top;\n",
       "    }\n",
       "\n",
       "    .dataframe thead th {\n",
       "        text-align: right;\n",
       "    }\n",
       "</style>\n",
       "<table border=\"1\" class=\"dataframe\">\n",
       "  <thead>\n",
       "    <tr style=\"text-align: right;\">\n",
       "      <th></th>\n",
       "      <th>InvoiceNo</th>\n",
       "      <th>StockCode</th>\n",
       "      <th>Description</th>\n",
       "      <th>Quantity</th>\n",
       "      <th>InvoiceDate</th>\n",
       "      <th>UnitPrice</th>\n",
       "      <th>CustomerID</th>\n",
       "      <th>Country</th>\n",
       "    </tr>\n",
       "  </thead>\n",
       "  <tbody>\n",
       "    <tr>\n",
       "      <th>count</th>\n",
       "      <td>379336.0</td>\n",
       "      <td>379336</td>\n",
       "      <td>378373</td>\n",
       "      <td>379336.000000</td>\n",
       "      <td>379336</td>\n",
       "      <td>379336.000000</td>\n",
       "      <td>285076.000000</td>\n",
       "      <td>379336</td>\n",
       "    </tr>\n",
       "    <tr>\n",
       "      <th>unique</th>\n",
       "      <td>23857.0</td>\n",
       "      <td>4008</td>\n",
       "      <td>4132</td>\n",
       "      <td>NaN</td>\n",
       "      <td>NaN</td>\n",
       "      <td>NaN</td>\n",
       "      <td>NaN</td>\n",
       "      <td>38</td>\n",
       "    </tr>\n",
       "    <tr>\n",
       "      <th>top</th>\n",
       "      <td>573585.0</td>\n",
       "      <td>85123A</td>\n",
       "      <td>WHITE HANGING HEART T-LIGHT HOLDER</td>\n",
       "      <td>NaN</td>\n",
       "      <td>NaN</td>\n",
       "      <td>NaN</td>\n",
       "      <td>NaN</td>\n",
       "      <td>United Kingdom</td>\n",
       "    </tr>\n",
       "    <tr>\n",
       "      <th>freq</th>\n",
       "      <td>774.0</td>\n",
       "      <td>1611</td>\n",
       "      <td>1649</td>\n",
       "      <td>NaN</td>\n",
       "      <td>NaN</td>\n",
       "      <td>NaN</td>\n",
       "      <td>NaN</td>\n",
       "      <td>346854</td>\n",
       "    </tr>\n",
       "    <tr>\n",
       "      <th>mean</th>\n",
       "      <td>NaN</td>\n",
       "      <td>NaN</td>\n",
       "      <td>NaN</td>\n",
       "      <td>9.517272</td>\n",
       "      <td>2011-07-04 11:02:43.239080960</td>\n",
       "      <td>4.681474</td>\n",
       "      <td>15288.302463</td>\n",
       "      <td>NaN</td>\n",
       "    </tr>\n",
       "    <tr>\n",
       "      <th>min</th>\n",
       "      <td>NaN</td>\n",
       "      <td>NaN</td>\n",
       "      <td>NaN</td>\n",
       "      <td>-80995.000000</td>\n",
       "      <td>2010-12-01 08:26:00</td>\n",
       "      <td>-11062.060000</td>\n",
       "      <td>12346.000000</td>\n",
       "      <td>NaN</td>\n",
       "    </tr>\n",
       "    <tr>\n",
       "      <th>25%</th>\n",
       "      <td>NaN</td>\n",
       "      <td>NaN</td>\n",
       "      <td>NaN</td>\n",
       "      <td>1.000000</td>\n",
       "      <td>2011-03-28 11:34:00</td>\n",
       "      <td>1.250000</td>\n",
       "      <td>13958.750000</td>\n",
       "      <td>NaN</td>\n",
       "    </tr>\n",
       "    <tr>\n",
       "      <th>50%</th>\n",
       "      <td>NaN</td>\n",
       "      <td>NaN</td>\n",
       "      <td>NaN</td>\n",
       "      <td>3.000000</td>\n",
       "      <td>2011-07-19 15:23:00</td>\n",
       "      <td>2.080000</td>\n",
       "      <td>15152.000000</td>\n",
       "      <td>NaN</td>\n",
       "    </tr>\n",
       "    <tr>\n",
       "      <th>75%</th>\n",
       "      <td>NaN</td>\n",
       "      <td>NaN</td>\n",
       "      <td>NaN</td>\n",
       "      <td>10.000000</td>\n",
       "      <td>2011-10-19 09:43:00</td>\n",
       "      <td>4.130000</td>\n",
       "      <td>16791.000000</td>\n",
       "      <td>NaN</td>\n",
       "    </tr>\n",
       "    <tr>\n",
       "      <th>max</th>\n",
       "      <td>NaN</td>\n",
       "      <td>NaN</td>\n",
       "      <td>NaN</td>\n",
       "      <td>80995.000000</td>\n",
       "      <td>2011-12-09 12:50:00</td>\n",
       "      <td>38970.000000</td>\n",
       "      <td>18287.000000</td>\n",
       "      <td>NaN</td>\n",
       "    </tr>\n",
       "    <tr>\n",
       "      <th>std</th>\n",
       "      <td>NaN</td>\n",
       "      <td>NaN</td>\n",
       "      <td>NaN</td>\n",
       "      <td>259.070548</td>\n",
       "      <td>NaN</td>\n",
       "      <td>105.799352</td>\n",
       "      <td>1712.323663</td>\n",
       "      <td>NaN</td>\n",
       "    </tr>\n",
       "  </tbody>\n",
       "</table>\n",
       "</div>"
      ],
      "text/plain": [
       "        InvoiceNo StockCode                         Description  \\\n",
       "count    379336.0    379336                              378373   \n",
       "unique    23857.0      4008                                4132   \n",
       "top      573585.0    85123A  WHITE HANGING HEART T-LIGHT HOLDER   \n",
       "freq        774.0      1611                                1649   \n",
       "mean          NaN       NaN                                 NaN   \n",
       "min           NaN       NaN                                 NaN   \n",
       "25%           NaN       NaN                                 NaN   \n",
       "50%           NaN       NaN                                 NaN   \n",
       "75%           NaN       NaN                                 NaN   \n",
       "max           NaN       NaN                                 NaN   \n",
       "std           NaN       NaN                                 NaN   \n",
       "\n",
       "             Quantity                    InvoiceDate      UnitPrice  \\\n",
       "count   379336.000000                         379336  379336.000000   \n",
       "unique            NaN                            NaN            NaN   \n",
       "top               NaN                            NaN            NaN   \n",
       "freq              NaN                            NaN            NaN   \n",
       "mean         9.517272  2011-07-04 11:02:43.239080960       4.681474   \n",
       "min     -80995.000000            2010-12-01 08:26:00  -11062.060000   \n",
       "25%          1.000000            2011-03-28 11:34:00       1.250000   \n",
       "50%          3.000000            2011-07-19 15:23:00       2.080000   \n",
       "75%         10.000000            2011-10-19 09:43:00       4.130000   \n",
       "max      80995.000000            2011-12-09 12:50:00   38970.000000   \n",
       "std        259.070548                            NaN     105.799352   \n",
       "\n",
       "           CustomerID         Country  \n",
       "count   285076.000000          379336  \n",
       "unique            NaN              38  \n",
       "top               NaN  United Kingdom  \n",
       "freq              NaN          346854  \n",
       "mean     15288.302463             NaN  \n",
       "min      12346.000000             NaN  \n",
       "25%      13958.750000             NaN  \n",
       "50%      15152.000000             NaN  \n",
       "75%      16791.000000             NaN  \n",
       "max      18287.000000             NaN  \n",
       "std       1712.323663             NaN  "
      ]
     },
     "execution_count": 15,
     "metadata": {},
     "output_type": "execute_result"
    }
   ],
   "source": [
    "# Basic sumary statiscal analysis as shown below\n",
    "train_df.describe(include='all')"
   ]
  },
  {
   "cell_type": "code",
   "execution_count": 21,
   "metadata": {
    "id": "lgCyM1BGITzv",
    "outputId": "0e775f63-0f4b-4bfc-a4c9-2b1074ec14ab"
   },
   "outputs": [
    {
     "name": "stdout",
     "output_type": "stream",
     "text": [
      "InvoiceNo          0\n",
      "StockCode          0\n",
      "Description      963\n",
      "Quantity           0\n",
      "InvoiceDate        0\n",
      "UnitPrice          0\n",
      "CustomerID     94260\n",
      "Country            0\n",
      "dtype: int64\n",
      "InvoiceNo          0\n",
      "StockCode          0\n",
      "Description      491\n",
      "Quantity           0\n",
      "InvoiceDate        0\n",
      "UnitPrice          0\n",
      "CustomerID     40820\n",
      "Country            0\n",
      "dtype: int64\n"
     ]
    }
   ],
   "source": [
    "# Looking for missing values along with NaN from the dataset as shown below\n",
    "print(train_df.isnull().sum())\n",
    "print(test_df.isnull().sum())"
   ]
  },
  {
   "cell_type": "code",
   "execution_count": 23,
   "metadata": {
    "id": "FRHQr6JjITzv"
   },
   "outputs": [],
   "source": [
    "# Drop null values for customer id since it is not an important categorical data and use mode to replace the null values in description\n",
    "\n",
    "# Drop vals where customer id is null\n",
    "train_df = train_df.dropna(subset=['CustomerID'])\n",
    "test_df = test_df.dropna(subset=['CustomerID'])\n",
    "\n",
    "# Replace nulls in Description with mode\n",
    "desc_mode = train_df['Description'].mode()[0]\n",
    "\n",
    "train_df['Description'] = train_df['Description'].fillna(desc_mode)\n",
    "test_df['Description'] = test_df['Description'].fillna(desc_mode)"
   ]
  },
  {
   "cell_type": "code",
   "execution_count": 25,
   "metadata": {
    "id": "5CRBaoacITzv",
    "outputId": "3f5f1d58-263c-467f-c3f6-e172d579e77f",
    "scrolled": true
   },
   "outputs": [
    {
     "name": "stdout",
     "output_type": "stream",
     "text": [
      "       InvoiceNo StockCode                          Description  Quantity  \\\n",
      "2878      575117     21098                CHRISTMAS TOILET ROLL         1   \n",
      "5729      542107     21755             LOVE BUILDING BLOCK WORD         1   \n",
      "7615      577778     21733     RED HANGING HEART T-LIGHT HOLDER         1   \n",
      "8997      578781     22988                    SOLDIERS EGG CUP          1   \n",
      "14797     575583     20893  HANGING BAUBLE T-LIGHT HOLDER SMALL         1   \n",
      "...          ...       ...                                  ...       ...   \n",
      "378899    577773     23507     MINI PLAYING CARDS BUFFALO BILL          1   \n",
      "379020    571682     23182       TOILET SIGN OCCUPIED OR VACANT         1   \n",
      "379073    564729     22208             WOOD STAMP SET THANK YOU         2   \n",
      "379205    538368     22759         SET OF 3 NOTEBOOKS IN PARCEL         1   \n",
      "379226    578041     22726           ALARM CLOCK BAKELIKE GREEN         1   \n",
      "\n",
      "               InvoiceDate  UnitPrice  CustomerID         Country  \n",
      "2878   2011-11-08 14:22:00       1.25     12748.0  United Kingdom  \n",
      "5729   2011-01-25 13:38:00       5.95     16222.0  United Kingdom  \n",
      "7615   2011-11-21 16:10:00       2.95     16549.0  United Kingdom  \n",
      "8997   2011-11-25 11:54:00       1.25     15872.0  United Kingdom  \n",
      "14797  2011-11-10 11:55:00       2.55     14456.0  United Kingdom  \n",
      "...                    ...        ...         ...             ...  \n",
      "378899 2011-11-21 15:57:00       0.42     16712.0  United Kingdom  \n",
      "379020 2011-10-18 14:00:00       0.83     14179.0  United Kingdom  \n",
      "379073 2011-08-28 12:44:00       0.83     13137.0  United Kingdom  \n",
      "379205 2010-12-12 10:57:00       1.65     15503.0  United Kingdom  \n",
      "379226 2011-11-22 14:23:00       3.75     17338.0  United Kingdom  \n",
      "\n",
      "[2656 rows x 8 columns]\n"
     ]
    }
   ],
   "source": [
    "# Display duplicate records as shown below\n",
    "print(train_df[train_df.duplicated()])"
   ]
  },
  {
   "cell_type": "code",
   "execution_count": 27,
   "metadata": {
    "id": "D_L6gsNBITzw"
   },
   "outputs": [],
   "source": [
    "# Drop duplicate rows\n",
    "train_df = train_df.drop_duplicates()\n",
    "test_df = test_df.drop_duplicates()"
   ]
  },
  {
   "cell_type": "code",
   "execution_count": 49,
   "metadata": {
    "id": "SlU_ABvKITzw",
    "outputId": "81a43b92-fd0e-428e-8124-bde8fa428661"
   },
   "outputs": [
    {
     "data": {
      "image/png": "[encoded data removed]",
      "text/plain": [
       "<Figure size 640x480 with 1 Axes>"
      ]
     },
     "metadata": {},
     "output_type": "display_data"
    }
   ],
   "source": [
    "# Display train dataset outliers with the box plot method as shown below\n",
    "numeric_cols = ['Quantity', 'UnitPrice', 'CustomerID']\n",
    "\n",
    "plt.title('Boxplot for Train set')\n",
    "\n",
    "sns.boxplot(\n",
    "    data=train_df[['Quantity', 'UnitPrice', 'CustomerID']],\n",
    "    palette=['white']*3,\n",
    "    fliersize=5,\n",
    "    linewidth=1,\n",
    "    boxprops=dict(edgecolor='black'),\n",
    "    medianprops=dict(color='black'),\n",
    "    whiskerprops=dict(color='black'),\n",
    "    capprops=dict(color='black'),\n",
    "    flierprops=dict(marker='o', color='black', markersize=5, markeredgecolor='black')\n",
    ")\n",
    "\n",
    "plt.grid(True, color='gray', linestyle='-', linewidth=0.5)\n",
    "plt.show()"
   ]
  },
  {
   "cell_type": "code",
   "execution_count": 51,
   "metadata": {
    "id": "PSRLYRs3ITzw",
    "outputId": "927c4fb0-c7ce-4bb9-a225-53f6b5bcbb40"
   },
   "outputs": [
    {
     "data": {
      "image/png": "[encoded data removed]",
      "text/plain": [
       "<Figure size 800x600 with 1 Axes>"
      ]
     },
     "metadata": {},
     "output_type": "display_data"
    }
   ],
   "source": [
    "# Display test dataset outliers with the box plot method as shown below\n",
    "\n",
    "plt.figure(figsize=(8, 6))\n",
    "\n",
    "sns.boxplot(\n",
    "    data=test_df[['Quantity', 'UnitPrice', 'CustomerID']],\n",
    "    palette=['white']*3,\n",
    "    fliersize=5,\n",
    "    linewidth=1,\n",
    "    boxprops=dict(facecolor='white', edgecolor='black'),\n",
    "    medianprops=dict(color='black'),\n",
    "    whiskerprops=dict(color='black'),\n",
    "    capprops=dict(color='black'),\n",
    "    flierprops=dict(marker='o', color='black', markersize=5, markeredgecolor='black')\n",
    ")\n",
    "\n",
    "plt.title('Boxplot for test set')\n",
    "plt.grid(True, color='gray', linestyle='-', linewidth=0.5)\n",
    "plt.show()"
   ]
  },
  {
   "cell_type": "code",
   "execution_count": 53,
   "metadata": {
    "id": "zkwDqe9SITzw"
   },
   "outputs": [],
   "source": [
    "# Create monthly groupings on the basis of customer id and invoice date while converting cust_id to integer\n",
    "\n",
    "# convert customer id to int\n",
    "train_df['CustomerID'] = train_df['CustomerID'].astype(int)\n",
    "\n",
    "#Convert InvoiceDate to datetime\n",
    "train_df['InvoiceDate'] = pd.to_datetime(train_df['InvoiceDate'])\n",
    "\n",
    "#create a new column for Invoice Month\n",
    "train_df['InvoiceMonth'] = train_df['InvoiceDate'].dt.to_period('M')\n",
    "\n",
    "# group by CustomerID and InvoiceMonth\n",
    "monthly_grouped = train_df.groupby(['CustomerID', 'InvoiceMonth'])"
   ]
  },
  {
   "cell_type": "code",
   "execution_count": 57,
   "metadata": {
    "id": "Wn7CsP-_ITzw",
    "outputId": "13da0fec-67c7-4a32-bc09-21eaf406106f"
   },
   "outputs": [
    {
     "name": "stdout",
     "output_type": "stream",
     "text": [
      "19427\n",
      "[2011 2010]\n",
      "[ 6  5  1 12  9 10  2 11  7  8  3  4]\n"
     ]
    }
   ],
   "source": [
    "# Looking for unique values in invoice date on the basis of years and months as shown below\n",
    "\n",
    "# Total Unique vals in InvoiceDate\n",
    "print(train_df['InvoiceDate'].nunique())\n",
    "\n",
    "#Unique years\n",
    "print(train_df['InvoiceDate'].dt.year.unique())\n",
    "\n",
    "# unique months\n",
    "print(train_df['InvoiceDate'].dt.month.unique())"
   ]
  },
  {
   "cell_type": "code",
   "execution_count": 63,
   "metadata": {
    "id": "CZV__tPXITzw",
    "outputId": "13191be9-7a37-4367-c981-5b59ef82f8f8"
   },
   "outputs": [
    {
     "data": {
      "text/plain": [
       "array(['2010-12', '2011-01', '2011-02', '2011-03', '2011-04', '2011-05',\n",
       "       '2011-06', '2011-07', '2011-08', '2011-09', '2011-10', '2011-11',\n",
       "       '2011-12'], dtype=object)"
      ]
     },
     "execution_count": 63,
     "metadata": {},
     "output_type": "execute_result"
    }
   ],
   "source": [
    "# Using the above to extract string from time and showing the number of unique months as shown below\n",
    "train_df['InvoiceMonthStr'] =train_df['InvoiceDate'].dt.to_period('M').astype(str)\n",
    "\n",
    "np.unique(train_df['InvoiceMonthStr'].values)"
   ]
  },
  {
   "cell_type": "code",
   "execution_count": 65,
   "metadata": {
    "id": "TQFklS0PITzx",
    "outputId": "910ebea4-243e-4c4c-aae5-9d6bf09ef355"
   },
   "outputs": [
    {
     "data": {
      "image/png": "[encoded data removed]",
      "text/plain": [
       "<Figure size 1200x600 with 1 Axes>"
      ]
     },
     "metadata": {},
     "output_type": "display_data"
    }
   ],
   "source": [
    "# Plot the customer count and invoice count across the unique months as shown below\n",
    "\n",
    "# Counting the unique customers and invoices per month\n",
    "monthly_summary = train_df.groupby('InvoiceMonth').agg({\n",
    "    'CustomerID': 'nunique',\n",
    "    'InvoiceNo': 'nunique'\n",
    "}).rename(columns={'CustomerID': 'Customercount', 'InvoiceNo': 'Invoice count'})\n",
    "\n",
    "plt.figure(figsize=(12, 6))\n",
    "plt.plot(monthly_summary.index.astype(str), monthly_summary['Customercount'], label='Customercount')\n",
    "plt.plot(monthly_summary.index.astype(str), monthly_summary['Invoice count'], label='Invoice count')\n",
    "plt.xlabel('InvoiceMonth')\n",
    "plt.ylabel('Count')\n",
    "plt.legend()\n",
    "plt.xticks(rotation=45)\n",
    "plt.tight_layout()\n",
    "plt.show()"
   ]
  },
  {
   "cell_type": "markdown",
   "metadata": {
    "id": "X_agVSh8ITzx"
   },
   "source": [
    "## **Building Recency Frequency Monetary (RFM) **"
   ]
  },
  {
   "cell_type": "code",
   "execution_count": 67,
   "metadata": {
    "id": "nGOpeqhfITzx",
    "outputId": "3793b5a7-67ed-46d3-e740-4cb4215b8445"
   },
   "outputs": [
    {
     "data": {
      "text/html": [
       "<div>\n",
       "<style scoped>\n",
       "    .dataframe tbody tr th:only-of-type {\n",
       "        vertical-align: middle;\n",
       "    }\n",
       "\n",
       "    .dataframe tbody tr th {\n",
       "        vertical-align: top;\n",
       "    }\n",
       "\n",
       "    .dataframe thead th {\n",
       "        text-align: right;\n",
       "    }\n",
       "</style>\n",
       "<table border=\"1\" class=\"dataframe\">\n",
       "  <thead>\n",
       "    <tr style=\"text-align: right;\">\n",
       "      <th></th>\n",
       "      <th>InvoiceNo</th>\n",
       "      <th>InvoiceDate</th>\n",
       "      <th>CustomerID</th>\n",
       "      <th>Sales</th>\n",
       "    </tr>\n",
       "  </thead>\n",
       "  <tbody>\n",
       "    <tr>\n",
       "      <th>0</th>\n",
       "      <td>536365</td>\n",
       "      <td>2010-12-01 08:26:00</td>\n",
       "      <td>17850</td>\n",
       "      <td>113.62</td>\n",
       "    </tr>\n",
       "    <tr>\n",
       "      <th>1</th>\n",
       "      <td>536366</td>\n",
       "      <td>2010-12-01 08:28:00</td>\n",
       "      <td>17850</td>\n",
       "      <td>11.10</td>\n",
       "    </tr>\n",
       "    <tr>\n",
       "      <th>2</th>\n",
       "      <td>536367</td>\n",
       "      <td>2010-12-01 08:34:00</td>\n",
       "      <td>13047</td>\n",
       "      <td>149.93</td>\n",
       "    </tr>\n",
       "    <tr>\n",
       "      <th>3</th>\n",
       "      <td>536368</td>\n",
       "      <td>2010-12-01 08:34:00</td>\n",
       "      <td>13047</td>\n",
       "      <td>55.20</td>\n",
       "    </tr>\n",
       "    <tr>\n",
       "      <th>4</th>\n",
       "      <td>536369</td>\n",
       "      <td>2010-12-01 08:35:00</td>\n",
       "      <td>13047</td>\n",
       "      <td>17.85</td>\n",
       "    </tr>\n",
       "  </tbody>\n",
       "</table>\n",
       "</div>"
      ],
      "text/plain": [
       "  InvoiceNo         InvoiceDate  CustomerID   Sales\n",
       "0    536365 2010-12-01 08:26:00       17850  113.62\n",
       "1    536366 2010-12-01 08:28:00       17850   11.10\n",
       "2    536367 2010-12-01 08:34:00       13047  149.93\n",
       "3    536368 2010-12-01 08:34:00       13047   55.20\n",
       "4    536369 2010-12-01 08:35:00       13047   17.85"
      ]
     },
     "execution_count": 67,
     "metadata": {},
     "output_type": "execute_result"
    }
   ],
   "source": [
    "# Calculate the total sales for both train and test datasets. Dispaly the below using the train dataset as shown below\n",
    "\n",
    "train_df['Sales'] = train_df['Quantity'] *train_df['UnitPrice']\n",
    "\n",
    "sales_summary = train_df.groupby(['InvoiceNo','InvoiceDate','CustomerID'], as_index=False)['Sales'].sum()\n",
    "\n",
    "sales_summary.head()"
   ]
  },
  {
   "cell_type": "code",
   "execution_count": 83,
   "metadata": {
    "id": "9uGjwIr8ITzx",
    "outputId": "ce6729c7-491e-470d-b797-502e41078dae"
   },
   "outputs": [
    {
     "data": {
      "text/plain": [
       "Timestamp('2011-12-09 12:50:00')"
      ]
     },
     "execution_count": 83,
     "metadata": {},
     "output_type": "execute_result"
    }
   ],
   "source": [
    "# Recency has to be claculated from a specific date. Show the below anchor/reference date\n",
    "reference_date = train_df['InvoiceDate'].max()\n",
    "reference_date"
   ]
  },
  {
   "cell_type": "code",
   "execution_count": 85,
   "metadata": {
    "id": "-k911RKkITzx",
    "outputId": "1fe90993-30f9-4223-8957-5fc916deee97"
   },
   "outputs": [
    {
     "data": {
      "text/html": [
       "<div>\n",
       "<style scoped>\n",
       "    .dataframe tbody tr th:only-of-type {\n",
       "        vertical-align: middle;\n",
       "    }\n",
       "\n",
       "    .dataframe tbody tr th {\n",
       "        vertical-align: top;\n",
       "    }\n",
       "\n",
       "    .dataframe thead th {\n",
       "        text-align: right;\n",
       "    }\n",
       "</style>\n",
       "<table border=\"1\" class=\"dataframe\">\n",
       "  <thead>\n",
       "    <tr style=\"text-align: right;\">\n",
       "      <th></th>\n",
       "      <th>Recency</th>\n",
       "      <th>Frequency</th>\n",
       "      <th>MonetaryValue</th>\n",
       "    </tr>\n",
       "    <tr>\n",
       "      <th>CustomerID</th>\n",
       "      <th></th>\n",
       "      <th></th>\n",
       "      <th></th>\n",
       "    </tr>\n",
       "  </thead>\n",
       "  <tbody>\n",
       "    <tr>\n",
       "      <th>12346</th>\n",
       "      <td>325</td>\n",
       "      <td>2</td>\n",
       "      <td>0.00</td>\n",
       "    </tr>\n",
       "    <tr>\n",
       "      <th>12347</th>\n",
       "      <td>1</td>\n",
       "      <td>7</td>\n",
       "      <td>3124.96</td>\n",
       "    </tr>\n",
       "    <tr>\n",
       "      <th>12348</th>\n",
       "      <td>74</td>\n",
       "      <td>4</td>\n",
       "      <td>1009.88</td>\n",
       "    </tr>\n",
       "    <tr>\n",
       "      <th>12349</th>\n",
       "      <td>18</td>\n",
       "      <td>1</td>\n",
       "      <td>1344.17</td>\n",
       "    </tr>\n",
       "    <tr>\n",
       "      <th>12350</th>\n",
       "      <td>309</td>\n",
       "      <td>1</td>\n",
       "      <td>213.30</td>\n",
       "    </tr>\n",
       "  </tbody>\n",
       "</table>\n",
       "</div>"
      ],
      "text/plain": [
       "            Recency  Frequency  MonetaryValue\n",
       "CustomerID                                   \n",
       "12346           325          2           0.00\n",
       "12347             1          7        3124.96\n",
       "12348            74          4        1009.88\n",
       "12349            18          1        1344.17\n",
       "12350           309          1         213.30"
      ]
     },
     "execution_count": 85,
     "metadata": {},
     "output_type": "execute_result"
    }
   ],
   "source": [
    "# Grouping by cust id and create a new table as shown below\n",
    "reference_date = train_df['InvoiceDate'].max()\n",
    "\n",
    "rfm = train_df.groupby('CustomerID').agg({\n",
    "    'InvoiceDate': lambda x: (reference_date - x.max()).days, # Recency\n",
    "    'InvoiceNo': 'nunique', # Frequency\n",
    "    'Sales': 'sum' # MonetaryValue\n",
    "})\n",
    "\n",
    "rfm.columns = ['Recency', 'Frequency', 'MonetaryValue']\n",
    "\n",
    "rfm.head()"
   ]
  },
  {
   "cell_type": "markdown",
   "metadata": {
    "id": "g4_zSxcBITzx"
   },
   "source": [
    "#### Give recency, frequency, and monetary scores individually by dividing them into quartiles, Combine three ratings to get a RFM segment (as strings), Get the RFM score by adding up the three ratings, Analyze the RFM segments by summarizing them and comment on the findings\n",
    "\n",
    "#### Rate “recency\" for customer who has been active more recently higher than the less recent customer. Rate “frequency\" and “monetary\" higher, because the company wants the customer to visit more often and spend more money"
   ]
  },
  {
   "cell_type": "code",
   "execution_count": null,
   "metadata": {
    "id": "-MfsE9UNITzx"
   },
   "outputs": [],
   "source": [
    "# Calculate RFM groups,labels and quartiles with the qcut function where recency_labels = range(4, 0, -1),\n",
    "# frequency_labels = range(1, 5), montary_labels = range(1, 5)\n",
    "r_labels = range(4, 0, -1)\n",
    "f_labels = range(1, 5)\n",
    "m_labels = range(1, 5)\n",
    "\n",
    "# Assign these labels to 4 equal percentile groups for recency\n",
    "rfm['R'] = pd.qcut(rfm['Recency'], q=4, labels=r_labels) \n",
    "\n",
    "# Assign these labels to 4 equal percentile groups for frequency\n",
    "rfm['F'] = pd.qcut(rfm['Frequency'].rank(method='first'), q=4, labels=f_labels)\n",
    "\n",
    "# Assign these labels to 4 equal percentile groups for montary value\n",
    "rfm['M'] = pd.qcut(rfm['MonetaryValue'].rank(method='first'), q=4, labels=m_labels)\n"
   ]
  },
  {
   "cell_type": "code",
   "execution_count": 91,
   "metadata": {
    "id": "RSU8VXbvITzy",
    "outputId": "0a71c3ae-33b4-4d94-d382-c0314dd0de9f"
   },
   "outputs": [
    {
     "name": "stdout",
     "output_type": "stream",
     "text": [
      "CustomerID\n",
      "12346    325\n",
      "12347      1\n",
      "12348     74\n",
      "12349     18\n",
      "12350    309\n",
      "        ... \n",
      "18280    277\n",
      "18281    180\n",
      "18282      7\n",
      "18283      3\n",
      "18287     42\n",
      "Name: Recency, Length: 4353, dtype: int64\n",
      "CustomerID\n",
      "12346     2\n",
      "12347     7\n",
      "12348     4\n",
      "12349     1\n",
      "12350     1\n",
      "         ..\n",
      "18280     1\n",
      "18281     1\n",
      "18282     3\n",
      "18283    16\n",
      "18287     3\n",
      "Name: Frequency, Length: 4353, dtype: int64\n",
      "CustomerID\n",
      "12346       0.00\n",
      "12347    3124.96\n",
      "12348    1009.88\n",
      "12349    1344.17\n",
      "12350     213.30\n",
      "          ...   \n",
      "18280      91.70\n",
      "18281      59.28\n",
      "18282     118.16\n",
      "18283    1450.29\n",
      "18287    1430.78\n",
      "Name: MonetaryValue, Length: 4353, dtype: float64\n"
     ]
    }
   ],
   "source": [
    "#Display the below output\n",
    "print(rfm['Recency'])\n",
    "print(rfm['Frequency'])\n",
    "print(rfm['MonetaryValue'])"
   ]
  },
  {
   "cell_type": "code",
   "execution_count": 93,
   "metadata": {
    "id": "bc_ZbIVlITzy",
    "outputId": "5af73d4b-3d13-40b4-be8f-8dc79a318009"
   },
   "outputs": [
    {
     "data": {
      "text/html": [
       "<div>\n",
       "<style scoped>\n",
       "    .dataframe tbody tr th:only-of-type {\n",
       "        vertical-align: middle;\n",
       "    }\n",
       "\n",
       "    .dataframe tbody tr th {\n",
       "        vertical-align: top;\n",
       "    }\n",
       "\n",
       "    .dataframe thead th {\n",
       "        text-align: right;\n",
       "    }\n",
       "</style>\n",
       "<table border=\"1\" class=\"dataframe\">\n",
       "  <thead>\n",
       "    <tr style=\"text-align: right;\">\n",
       "      <th></th>\n",
       "      <th>Recency</th>\n",
       "      <th>Frequency</th>\n",
       "      <th>MonetaryValue</th>\n",
       "      <th>R</th>\n",
       "      <th>F</th>\n",
       "      <th>M</th>\n",
       "    </tr>\n",
       "    <tr>\n",
       "      <th>CustomerID</th>\n",
       "      <th></th>\n",
       "      <th></th>\n",
       "      <th></th>\n",
       "      <th></th>\n",
       "      <th></th>\n",
       "      <th></th>\n",
       "    </tr>\n",
       "  </thead>\n",
       "  <tbody>\n",
       "    <tr>\n",
       "      <th>12346</th>\n",
       "      <td>325</td>\n",
       "      <td>2</td>\n",
       "      <td>0.00</td>\n",
       "      <td>1</td>\n",
       "      <td>2</td>\n",
       "      <td>1</td>\n",
       "    </tr>\n",
       "    <tr>\n",
       "      <th>12347</th>\n",
       "      <td>1</td>\n",
       "      <td>7</td>\n",
       "      <td>3124.96</td>\n",
       "      <td>4</td>\n",
       "      <td>4</td>\n",
       "      <td>4</td>\n",
       "    </tr>\n",
       "    <tr>\n",
       "      <th>12348</th>\n",
       "      <td>74</td>\n",
       "      <td>4</td>\n",
       "      <td>1009.88</td>\n",
       "      <td>2</td>\n",
       "      <td>3</td>\n",
       "      <td>3</td>\n",
       "    </tr>\n",
       "    <tr>\n",
       "      <th>12349</th>\n",
       "      <td>18</td>\n",
       "      <td>1</td>\n",
       "      <td>1344.17</td>\n",
       "      <td>3</td>\n",
       "      <td>1</td>\n",
       "      <td>4</td>\n",
       "    </tr>\n",
       "    <tr>\n",
       "      <th>12350</th>\n",
       "      <td>309</td>\n",
       "      <td>1</td>\n",
       "      <td>213.30</td>\n",
       "      <td>1</td>\n",
       "      <td>1</td>\n",
       "      <td>2</td>\n",
       "    </tr>\n",
       "  </tbody>\n",
       "</table>\n",
       "</div>"
      ],
      "text/plain": [
       "            Recency  Frequency  MonetaryValue  R  F  M\n",
       "CustomerID                                            \n",
       "12346           325          2           0.00  1  2  1\n",
       "12347             1          7        3124.96  4  4  4\n",
       "12348            74          4        1009.88  2  3  3\n",
       "12349            18          1        1344.17  3  1  4\n",
       "12350           309          1         213.30  1  1  2"
      ]
     },
     "execution_count": 93,
     "metadata": {},
     "output_type": "execute_result"
    }
   ],
   "source": [
    "# Adding the new columns to original rmf as shown below\n",
    "\n",
    "# copy of original RFM table\n",
    "rfm_scored = rfm.copy()\n",
    "\n",
    "r_labels = range(4, 0, -1)\n",
    "f_labels = range(1, 5)\n",
    "m_labels = range(1, 5)\n",
    "\n",
    "rfm_scored['R'] = pd.qcut(rfm_scored['Recency'], q=4, labels=r_labels)\n",
    "rfm_scored['F'] = pd.qcut(rfm_scored['Frequency'].rank(method='first'), q=4, labels=f_labels)\n",
    "rfm_scored['M'] = pd.qcut(rfm_scored['MonetaryValue'].rank(method='first'), q=4, labels=m_labels)\n",
    "\n",
    "rfm_scored.head()"
   ]
  },
  {
   "cell_type": "code",
   "execution_count": 95,
   "metadata": {
    "id": "go90m5wjITzy",
    "outputId": "a6ca7009-5622-465c-f927-aed6a191935e"
   },
   "outputs": [
    {
     "data": {
      "text/html": [
       "<div>\n",
       "<style scoped>\n",
       "    .dataframe tbody tr th:only-of-type {\n",
       "        vertical-align: middle;\n",
       "    }\n",
       "\n",
       "    .dataframe tbody tr th {\n",
       "        vertical-align: top;\n",
       "    }\n",
       "\n",
       "    .dataframe thead th {\n",
       "        text-align: right;\n",
       "    }\n",
       "</style>\n",
       "<table border=\"1\" class=\"dataframe\">\n",
       "  <thead>\n",
       "    <tr style=\"text-align: right;\">\n",
       "      <th></th>\n",
       "      <th>Recency</th>\n",
       "      <th>Frequency</th>\n",
       "      <th>MonetaryValue</th>\n",
       "      <th>R</th>\n",
       "      <th>F</th>\n",
       "      <th>M</th>\n",
       "      <th>RFM_segment</th>\n",
       "    </tr>\n",
       "    <tr>\n",
       "      <th>CustomerID</th>\n",
       "      <th></th>\n",
       "      <th></th>\n",
       "      <th></th>\n",
       "      <th></th>\n",
       "      <th></th>\n",
       "      <th></th>\n",
       "      <th></th>\n",
       "    </tr>\n",
       "  </thead>\n",
       "  <tbody>\n",
       "    <tr>\n",
       "      <th>12346</th>\n",
       "      <td>325</td>\n",
       "      <td>2</td>\n",
       "      <td>0.00</td>\n",
       "      <td>1</td>\n",
       "      <td>2</td>\n",
       "      <td>1</td>\n",
       "      <td>121</td>\n",
       "    </tr>\n",
       "    <tr>\n",
       "      <th>12347</th>\n",
       "      <td>1</td>\n",
       "      <td>7</td>\n",
       "      <td>3124.96</td>\n",
       "      <td>4</td>\n",
       "      <td>4</td>\n",
       "      <td>4</td>\n",
       "      <td>444</td>\n",
       "    </tr>\n",
       "    <tr>\n",
       "      <th>12348</th>\n",
       "      <td>74</td>\n",
       "      <td>4</td>\n",
       "      <td>1009.88</td>\n",
       "      <td>2</td>\n",
       "      <td>3</td>\n",
       "      <td>3</td>\n",
       "      <td>233</td>\n",
       "    </tr>\n",
       "    <tr>\n",
       "      <th>12349</th>\n",
       "      <td>18</td>\n",
       "      <td>1</td>\n",
       "      <td>1344.17</td>\n",
       "      <td>3</td>\n",
       "      <td>1</td>\n",
       "      <td>4</td>\n",
       "      <td>314</td>\n",
       "    </tr>\n",
       "    <tr>\n",
       "      <th>12350</th>\n",
       "      <td>309</td>\n",
       "      <td>1</td>\n",
       "      <td>213.30</td>\n",
       "      <td>1</td>\n",
       "      <td>1</td>\n",
       "      <td>2</td>\n",
       "      <td>112</td>\n",
       "    </tr>\n",
       "  </tbody>\n",
       "</table>\n",
       "</div>"
      ],
      "text/plain": [
       "            Recency  Frequency  MonetaryValue  R  F  M RFM_segment\n",
       "CustomerID                                                        \n",
       "12346           325          2           0.00  1  2  1         121\n",
       "12347             1          7        3124.96  4  4  4         444\n",
       "12348            74          4        1009.88  2  3  3         233\n",
       "12349            18          1        1344.17  3  1  4         314\n",
       "12350           309          1         213.30  1  1  2         112"
      ]
     },
     "execution_count": 95,
     "metadata": {},
     "output_type": "execute_result"
    }
   ],
   "source": [
    "# Combine three ratings to get a RFM segment as shown below\n",
    "rfm_scored['RFM_segment'] = (\n",
    "    rfm_scored['R'].astype(str) +\n",
    "    rfm_scored['F'].astype(str) +\n",
    "    rfm_scored['M'].astype(str)\n",
    ")\n",
    "\n",
    "rfm_scored.head()"
   ]
  },
  {
   "cell_type": "code",
   "execution_count": 97,
   "metadata": {
    "id": "M3mCzRfqITzy",
    "outputId": "6919fcd5-5083-448c-b755-ef34df17304e"
   },
   "outputs": [
    {
     "data": {
      "text/html": [
       "<div>\n",
       "<style scoped>\n",
       "    .dataframe tbody tr th:only-of-type {\n",
       "        vertical-align: middle;\n",
       "    }\n",
       "\n",
       "    .dataframe tbody tr th {\n",
       "        vertical-align: top;\n",
       "    }\n",
       "\n",
       "    .dataframe thead th {\n",
       "        text-align: right;\n",
       "    }\n",
       "</style>\n",
       "<table border=\"1\" class=\"dataframe\">\n",
       "  <thead>\n",
       "    <tr style=\"text-align: right;\">\n",
       "      <th></th>\n",
       "      <th>Recency</th>\n",
       "      <th>Frequency</th>\n",
       "      <th>MonetaryValue</th>\n",
       "      <th>R</th>\n",
       "      <th>F</th>\n",
       "      <th>M</th>\n",
       "      <th>RFM_segment</th>\n",
       "      <th>RFM_Score</th>\n",
       "    </tr>\n",
       "    <tr>\n",
       "      <th>CustomerID</th>\n",
       "      <th></th>\n",
       "      <th></th>\n",
       "      <th></th>\n",
       "      <th></th>\n",
       "      <th></th>\n",
       "      <th></th>\n",
       "      <th></th>\n",
       "      <th></th>\n",
       "    </tr>\n",
       "  </thead>\n",
       "  <tbody>\n",
       "    <tr>\n",
       "      <th>12346</th>\n",
       "      <td>325</td>\n",
       "      <td>2</td>\n",
       "      <td>0.00</td>\n",
       "      <td>1</td>\n",
       "      <td>2</td>\n",
       "      <td>1</td>\n",
       "      <td>121</td>\n",
       "      <td>4</td>\n",
       "    </tr>\n",
       "    <tr>\n",
       "      <th>12347</th>\n",
       "      <td>1</td>\n",
       "      <td>7</td>\n",
       "      <td>3124.96</td>\n",
       "      <td>4</td>\n",
       "      <td>4</td>\n",
       "      <td>4</td>\n",
       "      <td>444</td>\n",
       "      <td>12</td>\n",
       "    </tr>\n",
       "    <tr>\n",
       "      <th>12348</th>\n",
       "      <td>74</td>\n",
       "      <td>4</td>\n",
       "      <td>1009.88</td>\n",
       "      <td>2</td>\n",
       "      <td>3</td>\n",
       "      <td>3</td>\n",
       "      <td>233</td>\n",
       "      <td>8</td>\n",
       "    </tr>\n",
       "    <tr>\n",
       "      <th>12349</th>\n",
       "      <td>18</td>\n",
       "      <td>1</td>\n",
       "      <td>1344.17</td>\n",
       "      <td>3</td>\n",
       "      <td>1</td>\n",
       "      <td>4</td>\n",
       "      <td>314</td>\n",
       "      <td>8</td>\n",
       "    </tr>\n",
       "    <tr>\n",
       "      <th>12350</th>\n",
       "      <td>309</td>\n",
       "      <td>1</td>\n",
       "      <td>213.30</td>\n",
       "      <td>1</td>\n",
       "      <td>1</td>\n",
       "      <td>2</td>\n",
       "      <td>112</td>\n",
       "      <td>4</td>\n",
       "    </tr>\n",
       "  </tbody>\n",
       "</table>\n",
       "</div>"
      ],
      "text/plain": [
       "            Recency  Frequency  MonetaryValue  R  F  M RFM_segment  RFM_Score\n",
       "CustomerID                                                                   \n",
       "12346           325          2           0.00  1  2  1         121          4\n",
       "12347             1          7        3124.96  4  4  4         444         12\n",
       "12348            74          4        1009.88  2  3  3         233          8\n",
       "12349            18          1        1344.17  3  1  4         314          8\n",
       "12350           309          1         213.30  1  1  2         112          4"
      ]
     },
     "execution_count": 97,
     "metadata": {},
     "output_type": "execute_result"
    }
   ],
   "source": [
    "# Get the RFM score by adding up the three ratings as shown below.\n",
    "rfm_scored['RFM_Score'] = (\n",
    "    rfm_scored[['R', 'F', 'M']].astype(int).sum(axis=1)\n",
    ")\n",
    "rfm_scored.head()"
   ]
  },
  {
   "cell_type": "code",
   "execution_count": 99,
   "metadata": {
    "id": "9oQuMqAWITzy",
    "outputId": "7c4c3965-5b20-461f-bec3-fe080b680d34"
   },
   "outputs": [
    {
     "name": "stdout",
     "output_type": "stream",
     "text": [
      "63\n",
      "[3, 4, 5, 6, 7, 8, 9, 10, 11, 12]\n"
     ]
    },
    {
     "data": {
      "text/html": [
       "<div>\n",
       "<style scoped>\n",
       "    .dataframe tbody tr th:only-of-type {\n",
       "        vertical-align: middle;\n",
       "    }\n",
       "\n",
       "    .dataframe tbody tr th {\n",
       "        vertical-align: top;\n",
       "    }\n",
       "\n",
       "    .dataframe thead th {\n",
       "        text-align: right;\n",
       "    }\n",
       "</style>\n",
       "<table border=\"1\" class=\"dataframe\">\n",
       "  <thead>\n",
       "    <tr style=\"text-align: right;\">\n",
       "      <th></th>\n",
       "      <th>Recency</th>\n",
       "      <th>Frequency</th>\n",
       "      <th>MonetaryValue</th>\n",
       "      <th>R</th>\n",
       "      <th>F</th>\n",
       "      <th>M</th>\n",
       "      <th>RFM_segment</th>\n",
       "      <th>RFM_Score</th>\n",
       "    </tr>\n",
       "    <tr>\n",
       "      <th>CustomerID</th>\n",
       "      <th></th>\n",
       "      <th></th>\n",
       "      <th></th>\n",
       "      <th></th>\n",
       "      <th></th>\n",
       "      <th></th>\n",
       "      <th></th>\n",
       "      <th></th>\n",
       "    </tr>\n",
       "  </thead>\n",
       "  <tbody>\n",
       "    <tr>\n",
       "      <th>12347</th>\n",
       "      <td>1</td>\n",
       "      <td>7</td>\n",
       "      <td>3124.96</td>\n",
       "      <td>4</td>\n",
       "      <td>4</td>\n",
       "      <td>4</td>\n",
       "      <td>444</td>\n",
       "      <td>12</td>\n",
       "    </tr>\n",
       "    <tr>\n",
       "      <th>12359</th>\n",
       "      <td>7</td>\n",
       "      <td>6</td>\n",
       "      <td>4681.17</td>\n",
       "      <td>4</td>\n",
       "      <td>4</td>\n",
       "      <td>4</td>\n",
       "      <td>444</td>\n",
       "      <td>12</td>\n",
       "    </tr>\n",
       "    <tr>\n",
       "      <th>12362</th>\n",
       "      <td>2</td>\n",
       "      <td>13</td>\n",
       "      <td>3463.01</td>\n",
       "      <td>4</td>\n",
       "      <td>4</td>\n",
       "      <td>4</td>\n",
       "      <td>444</td>\n",
       "      <td>12</td>\n",
       "    </tr>\n",
       "    <tr>\n",
       "      <th>12388</th>\n",
       "      <td>15</td>\n",
       "      <td>6</td>\n",
       "      <td>2235.13</td>\n",
       "      <td>4</td>\n",
       "      <td>4</td>\n",
       "      <td>4</td>\n",
       "      <td>444</td>\n",
       "      <td>12</td>\n",
       "    </tr>\n",
       "    <tr>\n",
       "      <th>12395</th>\n",
       "      <td>15</td>\n",
       "      <td>14</td>\n",
       "      <td>2189.10</td>\n",
       "      <td>4</td>\n",
       "      <td>4</td>\n",
       "      <td>4</td>\n",
       "      <td>444</td>\n",
       "      <td>12</td>\n",
       "    </tr>\n",
       "  </tbody>\n",
       "</table>\n",
       "</div>"
      ],
      "text/plain": [
       "            Recency  Frequency  MonetaryValue  R  F  M RFM_segment  RFM_Score\n",
       "CustomerID                                                                   \n",
       "12347             1          7        3124.96  4  4  4         444         12\n",
       "12359             7          6        4681.17  4  4  4         444         12\n",
       "12362             2         13        3463.01  4  4  4         444         12\n",
       "12388            15          6        2235.13  4  4  4         444         12\n",
       "12395            15         14        2189.10  4  4  4         444         12"
      ]
     },
     "execution_count": 99,
     "metadata": {},
     "output_type": "execute_result"
    }
   ],
   "source": [
    "# show the number of unique segments, unique RFM_Scores, and print the best customers as shown below\n",
    "print(rfm_scored['RFM_segment'].nunique())\n",
    "print(sorted(rfm_scored['RFM_Score'].unique()))\n",
    "\n",
    "\n",
    "best_customers = rfm_scored[rfm_scored['RFM_Score'] == 12]\n",
    "best_customers.head()"
   ]
  },
  {
   "cell_type": "code",
   "execution_count": 103,
   "metadata": {
    "id": "I4UKaPFKITzy",
    "outputId": "13cae9d7-47db-4bb1-b21d-f1be73784c91"
   },
   "outputs": [
    {
     "data": {
      "text/html": [
       "<div>\n",
       "<style scoped>\n",
       "    .dataframe tbody tr th:only-of-type {\n",
       "        vertical-align: middle;\n",
       "    }\n",
       "\n",
       "    .dataframe tbody tr th {\n",
       "        vertical-align: top;\n",
       "    }\n",
       "\n",
       "    .dataframe thead th {\n",
       "        text-align: right;\n",
       "    }\n",
       "</style>\n",
       "<table border=\"1\" class=\"dataframe\">\n",
       "  <thead>\n",
       "    <tr style=\"text-align: right;\">\n",
       "      <th></th>\n",
       "      <th>Recency</th>\n",
       "      <th>Frequency</th>\n",
       "      <th>MonetaryValue</th>\n",
       "      <th>R</th>\n",
       "      <th>F</th>\n",
       "      <th>M</th>\n",
       "      <th>RFM_segment</th>\n",
       "      <th>RFM_Score</th>\n",
       "      <th>RFM_Level</th>\n",
       "    </tr>\n",
       "    <tr>\n",
       "      <th>CustomerID</th>\n",
       "      <th></th>\n",
       "      <th></th>\n",
       "      <th></th>\n",
       "      <th></th>\n",
       "      <th></th>\n",
       "      <th></th>\n",
       "      <th></th>\n",
       "      <th></th>\n",
       "      <th></th>\n",
       "    </tr>\n",
       "  </thead>\n",
       "  <tbody>\n",
       "    <tr>\n",
       "      <th>12346</th>\n",
       "      <td>325</td>\n",
       "      <td>2</td>\n",
       "      <td>0.00</td>\n",
       "      <td>1</td>\n",
       "      <td>2</td>\n",
       "      <td>1</td>\n",
       "      <td>121</td>\n",
       "      <td>4</td>\n",
       "      <td>Needs Attention</td>\n",
       "    </tr>\n",
       "    <tr>\n",
       "      <th>12347</th>\n",
       "      <td>1</td>\n",
       "      <td>7</td>\n",
       "      <td>3124.96</td>\n",
       "      <td>4</td>\n",
       "      <td>4</td>\n",
       "      <td>4</td>\n",
       "      <td>444</td>\n",
       "      <td>12</td>\n",
       "      <td>Important</td>\n",
       "    </tr>\n",
       "    <tr>\n",
       "      <th>12348</th>\n",
       "      <td>74</td>\n",
       "      <td>4</td>\n",
       "      <td>1009.88</td>\n",
       "      <td>2</td>\n",
       "      <td>3</td>\n",
       "      <td>3</td>\n",
       "      <td>233</td>\n",
       "      <td>8</td>\n",
       "      <td>Good</td>\n",
       "    </tr>\n",
       "    <tr>\n",
       "      <th>12349</th>\n",
       "      <td>18</td>\n",
       "      <td>1</td>\n",
       "      <td>1344.17</td>\n",
       "      <td>3</td>\n",
       "      <td>1</td>\n",
       "      <td>4</td>\n",
       "      <td>314</td>\n",
       "      <td>8</td>\n",
       "      <td>Good</td>\n",
       "    </tr>\n",
       "    <tr>\n",
       "      <th>12350</th>\n",
       "      <td>309</td>\n",
       "      <td>1</td>\n",
       "      <td>213.30</td>\n",
       "      <td>1</td>\n",
       "      <td>1</td>\n",
       "      <td>2</td>\n",
       "      <td>112</td>\n",
       "      <td>4</td>\n",
       "      <td>Needs Attention</td>\n",
       "    </tr>\n",
       "  </tbody>\n",
       "</table>\n",
       "</div>"
      ],
      "text/plain": [
       "            Recency  Frequency  MonetaryValue  R  F  M RFM_segment  RFM_Score  \\\n",
       "CustomerID                                                                      \n",
       "12346           325          2           0.00  1  2  1         121          4   \n",
       "12347             1          7        3124.96  4  4  4         444         12   \n",
       "12348            74          4        1009.88  2  3  3         233          8   \n",
       "12349            18          1        1344.17  3  1  4         314          8   \n",
       "12350           309          1         213.30  1  1  2         112          4   \n",
       "\n",
       "                  RFM_Level  \n",
       "CustomerID                   \n",
       "12346       Needs Attention  \n",
       "12347             Important  \n",
       "12348                  Good  \n",
       "12349                  Good  \n",
       "12350       Needs Attention  "
      ]
     },
     "execution_count": 103,
     "metadata": {},
     "output_type": "execute_result"
    }
   ],
   "source": [
    "# Define rfm_level function on the basis of importance using the following criteria: Important (RFM_Score>= 9),\n",
    "# Good (RFM_Score >= 8 and < 9), Okay (RFM_Score >= 7 and < 8), Neutral (RFM_Score >= 6 and < 7),\n",
    "# Might (RFM_Score >= 5) and < 6), Needs Attention (RFM_Score >= 4 and < 5) Otherwise Activate\n",
    "\n",
    "def rfm_level(score):\n",
    "    if score >= 9:\n",
    "        return 'Important'\n",
    "    elif score >= 8:\n",
    "        return 'Good'\n",
    "    elif score >= 7:\n",
    "        return 'Okay'\n",
    "    elif score >= 6:\n",
    "        return 'Neutral'\n",
    "    elif score >= 5:\n",
    "        return 'Might'\n",
    "    elif score >= 4:\n",
    "        return 'Needs Attention'\n",
    "    else:\n",
    "        return 'Activate'\n",
    "\n",
    "rfm_scored['RFM_Level'] = rfm_scored['RFM_Score'].apply(rfm_level)\n",
    "rfm_scored.head()"
   ]
  },
  {
   "cell_type": "code",
   "execution_count": 105,
   "metadata": {
    "id": "TGFmx_xuITzy",
    "outputId": "4d8e6afc-79b2-4f87-c879-9e7e58e9997c"
   },
   "outputs": [
    {
     "data": {
      "text/html": [
       "<div>\n",
       "<style scoped>\n",
       "    .dataframe tbody tr th:only-of-type {\n",
       "        vertical-align: middle;\n",
       "    }\n",
       "\n",
       "    .dataframe tbody tr th {\n",
       "        vertical-align: top;\n",
       "    }\n",
       "\n",
       "    .dataframe thead th {\n",
       "        text-align: right;\n",
       "    }\n",
       "</style>\n",
       "<table border=\"1\" class=\"dataframe\">\n",
       "  <thead>\n",
       "    <tr style=\"text-align: right;\">\n",
       "      <th></th>\n",
       "      <th>Recency</th>\n",
       "      <th>Frequency</th>\n",
       "      <th>MonetaryValue</th>\n",
       "      <th>count</th>\n",
       "    </tr>\n",
       "    <tr>\n",
       "      <th>RFM_Level</th>\n",
       "      <th></th>\n",
       "      <th></th>\n",
       "      <th></th>\n",
       "      <th></th>\n",
       "    </tr>\n",
       "  </thead>\n",
       "  <tbody>\n",
       "    <tr>\n",
       "      <th>Activate</th>\n",
       "      <td>270.394904</td>\n",
       "      <td>1.000000</td>\n",
       "      <td>92.132229</td>\n",
       "      <td>314</td>\n",
       "    </tr>\n",
       "    <tr>\n",
       "      <th>Good</th>\n",
       "      <td>60.727047</td>\n",
       "      <td>3.096774</td>\n",
       "      <td>726.174891</td>\n",
       "      <td>403</td>\n",
       "    </tr>\n",
       "    <tr>\n",
       "      <th>Important</th>\n",
       "      <td>24.761098</td>\n",
       "      <td>9.474299</td>\n",
       "      <td>2853.218867</td>\n",
       "      <td>1712</td>\n",
       "    </tr>\n",
       "    <tr>\n",
       "      <th>Might</th>\n",
       "      <td>131.676245</td>\n",
       "      <td>1.409962</td>\n",
       "      <td>238.093333</td>\n",
       "      <td>522</td>\n",
       "    </tr>\n",
       "    <tr>\n",
       "      <th>Needs Attention</th>\n",
       "      <td>204.605317</td>\n",
       "      <td>1.184049</td>\n",
       "      <td>151.744622</td>\n",
       "      <td>489</td>\n",
       "    </tr>\n",
       "  </tbody>\n",
       "</table>\n",
       "</div>"
      ],
      "text/plain": [
       "                    Recency  Frequency  MonetaryValue  count\n",
       "RFM_Level                                                   \n",
       "Activate         270.394904   1.000000      92.132229    314\n",
       "Good              60.727047   3.096774     726.174891    403\n",
       "Important         24.761098   9.474299    2853.218867   1712\n",
       "Might            131.676245   1.409962     238.093333    522\n",
       "Needs Attention  204.605317   1.184049     151.744622    489"
      ]
     },
     "execution_count": 105,
     "metadata": {},
     "output_type": "execute_result"
    }
   ],
   "source": [
    "# Calculate average values for each RFM_Level, and return a size of each segment as shown below\n",
    "rfm_summary = rfm_scored.groupby('RFM_Level').agg({\n",
    "    'Recency': 'mean',\n",
    "    'Frequency': 'mean',\n",
    "    'MonetaryValue': 'mean',\n",
    "    'RFM_Score': 'count'\n",
    "}).rename(columns={'RFM_Score': 'count'})\n",
    "\n",
    "rfm_summary.head()"
   ]
  },
  {
   "cell_type": "code",
   "execution_count": 111,
   "metadata": {
    "id": "kBo8F-M4ITzy"
   },
   "outputs": [
    {
     "data": {
      "image/png": "[encoded data removed]",
      "text/plain": [
       "<Figure size 1000x500 with 1 Axes>"
      ]
     },
     "metadata": {},
     "output_type": "display_data"
    },
    {
     "data": {
      "image/png": "[encoded data removed]",
      "text/plain": [
       "<Figure size 1200x600 with 1 Axes>"
      ]
     },
     "metadata": {},
     "output_type": "display_data"
    }
   ],
   "source": [
    "# Plot the above information and draw your insight\n",
    "\n",
    "\n",
    "#Plotting the bar chart of segment sizes\n",
    "rfm_summary_sorted = rfm_summary.sort_values('count', ascending=False)\n",
    "\n",
    "plt.figure(figsize=(10, 5))\n",
    "sns.barplot(x=rfm_summary_sorted.index, y=rfm_summary_sorted['count'], hue=rfm_summary_sorted.index, palette='viridis', legend=False)\n",
    "plt.title('Customer Count per RFM Segment')\n",
    "plt.ylabel('Number of Customers')\n",
    "plt.xlabel('RFM Level')\n",
    "plt.xticks(rotation=45)\n",
    "plt.tight_layout()\n",
    "plt.show()\n",
    "\n",
    "\n",
    "# Plotting the average RFM metrics per segment\n",
    "\n",
    "rfm_summary_melted = rfm_summary_sorted.drop(columns='count').reset_index().melt(id_vars='RFM_Level')\n",
    "\n",
    "plt.figure(figsize=(12, 6))\n",
    "sns.barplot(data=rfm_summary_melted, x='RFM_Level', y='value', hue='variable')\n",
    "plt.title('Average R, F, M by RFM Segment')\n",
    "plt.ylabel('Average Value')\n",
    "plt.xlabel('RFM Level')\n",
    "plt.legend(title='Metric')\n",
    "plt.xticks(rotation=45)\n",
    "plt.tight_layout()\n",
    "plt.show()"
   ]
  },
  {
   "cell_type": "markdown",
   "metadata": {},
   "source": [
    "## *My Insights*\n",
    "- **Important** customers are the largest and most valuable segment; they purchase often, spend the most, and are recently active.\n",
    "- **Activate** segment includes the least engaged customers with high recency, low frequency, and low spending — consider reactivation campaigns.\n",
    "- **Needs Attention**, **Might**, and **Neutral** segments show moderate activity; they are at risk of churn without targeted engagement.\n",
    "- **Good** and **Okay** segments spend relatively well but are smaller; these are potential candidates for upselling or conversion to \"Important\".\n",
    "- Spending is heavily concentrated in the **Important** group — indicating a small group of customers drives most revenue (Pareto effect).\n",
    "\n"
   ]
  },
  {
   "cell_type": "markdown",
   "metadata": {
    "id": "q_XSk4-XITzz"
   },
   "source": [
    "## ** Modeling training data with Kmeans **"
   ]
  },
  {
   "cell_type": "code",
   "execution_count": null,
   "metadata": {
    "id": "VMehyLaMITzz"
   },
   "outputs": [],
   "source": [
    "# Explore the optimum number of clusters/cluster sum of squares (WCSS) with max_iter   = 300 and n_init =10\n"
   ]
  },
  {
   "cell_type": "code",
   "execution_count": null,
   "metadata": {
    "id": "nXv1Dw8aITzz"
   },
   "outputs": [],
   "source": [
    "# Plot the above results into a line graph and determine the optimum number of clusters.\n",
    "\n",
    "\n"
   ]
  },
  {
   "cell_type": "code",
   "execution_count": null,
   "metadata": {
    "id": "gNWlsl_aMoMR"
   },
   "outputs": [],
   "source": [
    "# What insight can you gather from the above graph?"
   ]
  },
  {
   "cell_type": "code",
   "execution_count": null,
   "metadata": {
    "id": "jDzky_FoITzz"
   },
   "outputs": [],
   "source": [
    "# Repeating the above steps for test data\n",
    "\n"
   ]
  },
  {
   "cell_type": "markdown",
   "metadata": {
    "id": "fIO83iHeLBqs"
   },
   "source": [
    "## ** Create segments to determine total customer value for the retail **"
   ]
  },
  {
   "cell_type": "code",
   "execution_count": null,
   "metadata": {
    "id": "er_SKb9pITzz"
   },
   "outputs": [],
   "source": [
    "# Applying kmeans using the optimal number of clusters\n",
    "\n"
   ]
  },
  {
   "cell_type": "code",
   "execution_count": null,
   "metadata": {
    "id": "99kKsWASITzz"
   },
   "outputs": [],
   "source": [
    "# Create a new cloumn for your predictions\n"
   ]
  },
  {
   "cell_type": "code",
   "execution_count": null,
   "metadata": {
    "id": "I6SR9PUQITzz",
    "outputId": "afd04df4-faef-48a6-f83a-cf49857fe6f4"
   },
   "outputs": [
    {
     "data": {
      "text/plain": [
       "2    64572\n",
       "1    55959\n",
       "0      708\n",
       "3       46\n",
       "Name: Cluster, dtype: int64"
      ]
     },
     "execution_count": 49,
     "metadata": {},
     "output_type": "execute_result"
    }
   ],
   "source": [
    "# As shown below, show the number of Cluster along with the number of customers in it. What's your insight here?\n"
   ]
  },
  {
   "cell_type": "code",
   "execution_count": null,
   "metadata": {
    "id": "FfazD8U5LRo4"
   },
   "outputs": [],
   "source": [
    "# Analyze the customers within each cluster seperately to gather insight for each customer segment."
   ]
  }
 ],
 "metadata": {
  "colab": {
   "provenance": [],
   "toc_visible": true
  },
  "kernelspec": {
   "display_name": "Python (moflow)",
   "language": "python",
   "name": "moflow"
  },
  "language_info": {
   "codemirror_mode": {
    "name": "ipython",
    "version": 3
   },
   "file_extension": ".py",
   "mimetype": "text/x-python",
   "name": "python",
   "nbconvert_exporter": "python",
   "pygments_lexer": "ipython3",
   "version": "3.10.16"
  }
 },
 "nbformat": 4,
 "nbformat_minor": 4
}
