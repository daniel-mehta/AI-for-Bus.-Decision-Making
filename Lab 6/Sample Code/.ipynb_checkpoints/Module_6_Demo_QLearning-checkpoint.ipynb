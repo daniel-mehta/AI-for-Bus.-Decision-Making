{
 "cells": [
  {
   "cell_type": "markdown",
   "metadata": {
    "id": "M27qF7CTrBqc"
   },
   "source": [
    "# Case Study_: Q Learning\n"
   ]
  },
  {
   "cell_type": "markdown",
   "metadata": {
    "id": "zKmFmyaGunc7"
   },
   "source": [
    "# Task 1:Problem Statement\n",
    "## Optimizing Warehouse Flows with Q-Learning\n"
   ]
  },
  {
   "cell_type": "code",
   "execution_count": 3,
   "metadata": {
    "id": "S0Cx3743urFY"
   },
   "outputs": [],
   "source": [
    "# import the libraries\n",
    "import numpy as np\n",
    "import pandas as pd"
   ]
  },
  {
   "cell_type": "code",
   "execution_count": 4,
   "metadata": {
    "id": "tjIiJdM4u1IE"
   },
   "outputs": [],
   "source": [
    "# Setting the parameters gamma and alpha for the Q-Learning\n",
    "gamma = 0.75\n",
    "alpha = 0.9"
   ]
  },
  {
   "cell_type": "code",
   "execution_count": 5,
   "metadata": {
    "id": "E7puy9-xxS4A"
   },
   "outputs": [],
   "source": [
    "# PART 1 - DEFINING THE ENVIRONMENT\n",
    "# Defining the states\n",
    "location_to_state = {'A': 0,\n",
    "                     'B': 1,\n",
    "                     'C': 2,\n",
    "                     'D': 3,\n",
    "                     'E': 4,\n",
    "                     'F': 5,\n",
    "                     'G': 6,\n",
    "                     'H': 7,\n",
    "                     'I': 8,\n",
    "                     'J': 9,\n",
    "                     'K': 10,\n",
    "                     'L': 11}\n"
   ]
  },
  {
   "cell_type": "code",
   "execution_count": 6,
   "metadata": {
    "id": "RUt2ON_UxyYk"
   },
   "outputs": [],
   "source": [
    "# Defining the actions\n",
    "actions = [0,1,2,3,4,5,6,7,8,9,10,11]"
   ]
  },
  {
   "cell_type": "code",
   "execution_count": 7,
   "metadata": {
    "id": "hMq3-KWOx0e1"
   },
   "outputs": [],
   "source": [
    "# Defining the rewards\n",
    "R=np.array([[0,1,0,0,0,0,0,0,0,0,0,0],\n",
    "[1,0,1,0,0,1,0,0,0,0,0,0],\n",
    "[0,1,0,0,0,0,1,0,0,0,0,0],\n",
    "[0,0,0,0,0,0,0,1,0,0,0,0],\n",
    "[0,0,0,0,0,0,0,0,1,0,0,0],\n",
    "[0,1,0,0,0,0,0,0,0,1,0,0],\n",
    "[0,0,1,0,0,0,1000,1,0,0,0,0],\n",
    "[0,0,0,1,0,0,1,0,0,0,0,1],\n",
    "[0,0,0,0,1,0,0,0,0,1,0,0],\n",
    "[0,0,0,0,0,1,0,0,1,0,1,0],\n",
    "[0,0,0,0,0,0,0,0,0,1,0,1],\n",
    "[0,0,0,0,0,0,0,1,0,0,1,0]])"
   ]
  },
  {
   "cell_type": "code",
   "execution_count": 8,
   "metadata": {
    "colab": {
     "base_uri": "https://localhost:8080/"
    },
    "id": "NbnoZqu5kmXM",
    "outputId": "7f32a9ae-9b9a-4df5-c868-037f8e4ebb29"
   },
   "outputs": [
    {
     "name": "stdout",
     "output_type": "stream",
     "text": [
      "   A  B  C  D  E  F     G  H  I  J  K  L\n",
      "A  0  1  0  0  0  0     0  0  0  0  0  0\n",
      "B  1  0  1  0  0  1     0  0  0  0  0  0\n",
      "C  0  1  0  0  0  0     1  0  0  0  0  0\n",
      "D  0  0  0  0  0  0     0  1  0  0  0  0\n",
      "E  0  0  0  0  0  0     0  0  1  0  0  0\n",
      "F  0  1  0  0  0  0     0  0  0  1  0  0\n",
      "G  0  0  1  0  0  0  1000  1  0  0  0  0\n",
      "H  0  0  0  1  0  0     1  0  0  0  0  1\n",
      "I  0  0  0  0  1  0     0  0  0  1  0  0\n",
      "J  0  0  0  0  0  1     0  0  1  0  1  0\n",
      "K  0  0  0  0  0  0     0  0  0  1  0  1\n",
      "L  0  0  0  0  0  0     0  1  0  0  1  0\n"
     ]
    }
   ],
   "source": [
    "def print_rewards(data):\n",
    "  locations = ['A','B','C','D','E','F','G','H','I','J','K','L']\n",
    "  df_R = pd.DataFrame(data, index=locations,columns=locations)\n",
    "  print(df_R)\n",
    "\n",
    "print_rewards(R)"
   ]
  },
  {
   "cell_type": "code",
   "execution_count": 9,
   "metadata": {
    "colab": {
     "base_uri": "https://localhost:8080/"
    },
    "id": "s0E9xPLdx2Ok",
    "outputId": "57b01d90-064e-4404-9fbd-dc474c561556"
   },
   "outputs": [
    {
     "name": "stdout",
     "output_type": "stream",
     "text": [
      "     A    B    C    D    E    F    G    H    I    J    K    L\n",
      "A  0.0  0.0  0.0  0.0  0.0  0.0  0.0  0.0  0.0  0.0  0.0  0.0\n",
      "B  0.0  0.0  0.0  0.0  0.0  0.0  0.0  0.0  0.0  0.0  0.0  0.0\n",
      "C  0.0  0.0  0.0  0.0  0.0  0.0  0.0  0.0  0.0  0.0  0.0  0.0\n",
      "D  0.0  0.0  0.0  0.0  0.0  0.0  0.0  0.0  0.0  0.0  0.0  0.0\n",
      "E  0.0  0.0  0.0  0.0  0.0  0.0  0.0  0.0  0.0  0.0  0.0  0.0\n",
      "F  0.0  0.0  0.0  0.0  0.0  0.0  0.0  0.0  0.0  0.0  0.0  0.0\n",
      "G  0.0  0.0  0.0  0.0  0.0  0.0  0.0  0.0  0.0  0.0  0.0  0.0\n",
      "H  0.0  0.0  0.0  0.0  0.0  0.0  0.0  0.0  0.0  0.0  0.0  0.0\n",
      "I  0.0  0.0  0.0  0.0  0.0  0.0  0.0  0.0  0.0  0.0  0.0  0.0\n",
      "J  0.0  0.0  0.0  0.0  0.0  0.0  0.0  0.0  0.0  0.0  0.0  0.0\n",
      "K  0.0  0.0  0.0  0.0  0.0  0.0  0.0  0.0  0.0  0.0  0.0  0.0\n",
      "L  0.0  0.0  0.0  0.0  0.0  0.0  0.0  0.0  0.0  0.0  0.0  0.0\n"
     ]
    }
   ],
   "source": [
    "# PART 2 - BUILDING THE AI SOLUTION WITH Q-LEARNING\n",
    "# Initializing the Q-Values to create the original qtable\n",
    "Q = np.array(np.zeros([12,12]))\n",
    "\n",
    "print_rewards(Q)"
   ]
  },
  {
   "cell_type": "code",
   "execution_count": 10,
   "metadata": {
    "id": "TzfwLhLUazX1"
   },
   "outputs": [],
   "source": [
    "# Implementing the Q-Learning process\n",
    "for i in range(1000):\n",
    "    current_state = np.random.randint(0,12)\n",
    "    playable_actions = []\n",
    "    for j in range(12):\n",
    "        if R[current_state, j] > 0:\n",
    "            playable_actions.append(j)\n",
    "    next_state = np.random.choice(playable_actions)\n",
    "    TD = R[current_state, next_state] + gamma*Q[next_state, np.argmax(Q[next_state,])] - Q[current_state, next_state]\n",
    "    Q[current_state, next_state] = Q[current_state, next_state] + alpha*TD"
   ]
  },
  {
   "cell_type": "code",
   "execution_count": 11,
   "metadata": {
    "colab": {
     "base_uri": "https://localhost:8080/"
    },
    "id": "92SaSNJvkxqb",
    "outputId": "a618791a-f7da-4409-ca28-c3859f0ce8ad"
   },
   "outputs": [
    {
     "name": "stdout",
     "output_type": "stream",
     "text": [
      "Q-Values:\n",
      "      A     B     C     D    E     F     G     H    I    J     K     L\n",
      "A     0  1689     0     0    0     0     0     0    0    0     0     0\n",
      "B  1268     0  2251     0    0  1268     0     0    0    0     0     0\n",
      "C     0  1689     0     0    0     0  3000     0    0    0     0     0\n",
      "D     0     0     0     0    0     0     0  2251    0    0     0     0\n",
      "E     0     0     0     0    0     0     0     0  715    0     0     0\n",
      "F     0  1689     0     0    0     0     0     0    0  952     0     0\n",
      "G     0     0  2251     0    0     0  3999  2251    0    0     0     0\n",
      "H     0     0     0  1689    0     0  3000     0    0    0     0  1689\n",
      "I     0     0     0     0  537     0     0     0    0  952     0     0\n",
      "J     0     0     0     0    0  1268     0     0  715    0  1268     0\n",
      "K     0     0     0     0    0     0     0     0    0  952     0  1689\n",
      "L     0     0     0     0    0     0     0  2251    0    0  1268     0\n"
     ]
    }
   ],
   "source": [
    "print(\"Q-Values:\")\n",
    "\n",
    "print_rewards(Q.astype(int))"
   ]
  },
  {
   "cell_type": "code",
   "execution_count": 12,
   "metadata": {
    "colab": {
     "base_uri": "https://localhost:8080/"
    },
    "id": "ey2G1N1FqJRR",
    "outputId": "c466497c-2035-4c92-af29-cbc19f91cf93"
   },
   "outputs": [
    {
     "data": {
      "text/plain": [
       "{0: 'A',\n",
       " 1: 'B',\n",
       " 2: 'C',\n",
       " 3: 'D',\n",
       " 4: 'E',\n",
       " 5: 'F',\n",
       " 6: 'G',\n",
       " 7: 'H',\n",
       " 8: 'I',\n",
       " 9: 'J',\n",
       " 10: 'K',\n",
       " 11: 'L'}"
      ]
     },
     "execution_count": 12,
     "metadata": {},
     "output_type": "execute_result"
    }
   ],
   "source": [
    "# PART 3 - GOING INTO PRODUCTION\n",
    "# Making a mapping from the states to the locations\n",
    "state_to_location = {state: location for location, state in location_to_state.items()}\n",
    "state_to_location"
   ]
  },
  {
   "cell_type": "code",
   "execution_count": 13,
   "metadata": {
    "id": "t3BY8FxelGIP"
   },
   "outputs": [],
   "source": [
    "# Making the final function that will return the optimal route\n",
    "def route(starting_location, ending_location):\n",
    "    route = [starting_location]\n",
    "    next_location = starting_location\n",
    "    while (next_location != ending_location):\n",
    "        starting_state = location_to_state[starting_location]\n",
    "        next_state = np.argmax(Q[starting_state,])\n",
    "        next_location = state_to_location[next_state]\n",
    "        route.append(next_location)\n",
    "        starting_location = next_location\n",
    "    return route"
   ]
  },
  {
   "cell_type": "code",
   "execution_count": 14,
   "metadata": {
    "colab": {
     "base_uri": "https://localhost:8080/"
    },
    "id": "kP8opr7YzJ_d",
    "outputId": "02cd2e86-4f74-4344-86d5-3d6c32785a45"
   },
   "outputs": [
    {
     "name": "stdout",
     "output_type": "stream",
     "text": [
      "Route:\n"
     ]
    },
    {
     "data": {
      "text/plain": [
       "['A', 'B', 'C', 'G']"
      ]
     },
     "execution_count": 14,
     "metadata": {},
     "output_type": "execute_result"
    }
   ],
   "source": [
    "# Printing the final route\n",
    "print('Route:')\n",
    "route('A', 'G')"
   ]
  }
 ],
 "metadata": {
  "colab": {
   "provenance": []
  },
  "kernelspec": {
   "display_name": "Python (moflow)",
   "language": "python",
   "name": "moflow"
  },
  "language_info": {
   "codemirror_mode": {
    "name": "ipython",
    "version": 3
   },
   "file_extension": ".py",
   "mimetype": "text/x-python",
   "name": "python",
   "nbconvert_exporter": "python",
   "pygments_lexer": "ipython3",
   "version": "3.10.16"
  }
 },
 "nbformat": 4,
 "nbformat_minor": 4
}
